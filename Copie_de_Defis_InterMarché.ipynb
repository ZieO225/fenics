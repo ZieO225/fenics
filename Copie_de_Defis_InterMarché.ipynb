{
  "nbformat": 4,
  "nbformat_minor": 0,
  "metadata": {
    "colab": {
      "name": "Copie de Defis_InterMarché.ipynb",
      "provenance": [],
      "collapsed_sections": [],
      "machine_shape": "hm"
    },
    "kernelspec": {
      "name": "python3",
      "display_name": "Python 3"
    },
    "language_info": {
      "name": "python"
    },
    "accelerator": "TPU"
  },
  "cells": [
    {
      "cell_type": "code",
      "metadata": {
        "id": "p164QFrQn5xM"
      },
      "source": [
        "# importation des bibliothèques necessaires \n",
        "import pandas as pd\n",
        "from pandas_profiling import ProfileReport\n",
        "import pandas_profiling\n",
        "import numpy as np\n",
        "import matplotlib.pyplot as plt\n",
        "import seaborn as sns\n",
        "import gc"
      ],
      "execution_count": null,
      "outputs": []
    },
    {
      "cell_type": "code",
      "metadata": {
        "colab": {
          "base_uri": "https://localhost:8080/"
        },
        "id": "U6m1_n7jp_rI",
        "outputId": "f796a1a3-0c14-428d-9c99-a27b38412144"
      },
      "source": [
        "from google.colab import drive\n",
        "\n",
        "drive.mount('/content/drive')"
      ],
      "execution_count": null,
      "outputs": [
        {
          "output_type": "stream",
          "text": [
            "Mounted at /content/drive\n"
          ],
          "name": "stdout"
        }
      ]
    },
    {
      "cell_type": "code",
      "metadata": {
        "id": "wdm22TwhoPrL"
      },
      "source": [
        "nm = pd.read_csv(\"/content/drive/MyDrive/challenge_1_data/nomenclature_produits.csv\")\n",
        "PdV = pd.read_csv(\"/content/drive/MyDrive/challenge_1_data/points_de_vente.csv\")\n",
        "PrV = pd.read_csv(\"/content/drive/MyDrive/challenge_1_data/prix_vente.csv\")\n",
        "V_18 = pd.read_csv(\"/content/drive/MyDrive/challenge_1_data/ventes_2018.csv\")"
      ],
      "execution_count": null,
      "outputs": []
    },
    {
      "cell_type": "code",
      "metadata": {
        "colab": {
          "base_uri": "https://localhost:8080/"
        },
        "id": "OYU0cog7RKOy",
        "outputId": "3cda5705-0ef1-4f65-a032-2799bd356377"
      },
      "source": [
        "gc.collect() #nettoie la ram"
      ],
      "execution_count": null,
      "outputs": [
        {
          "output_type": "execute_result",
          "data": {
            "text/plain": [
              "88"
            ]
          },
          "metadata": {
            "tags": []
          },
          "execution_count": 6
        }
      ]
    },
    {
      "cell_type": "code",
      "metadata": {
        "colab": {
          "base_uri": "https://localhost:8080/"
        },
        "id": "4rGFzRPEJxDW",
        "outputId": "1e0884e4-dc7b-4857-c7a1-d16155e1be43"
      },
      "source": [
        "len(V_18[\"ID_ARTC\"].unique()),len(PrV[\"ID_ARTC\"].unique())"
      ],
      "execution_count": null,
      "outputs": [
        {
          "output_type": "execute_result",
          "data": {
            "text/plain": [
              "(2500, 2500)"
            ]
          },
          "metadata": {
            "tags": []
          },
          "execution_count": 8
        }
      ]
    },
    {
      "cell_type": "markdown",
      "metadata": {
        "id": "rkWuhYax9Gpc"
      },
      "source": [
        "##Pretraitement"
      ]
    },
    {
      "cell_type": "code",
      "metadata": {
        "colab": {
          "base_uri": "https://localhost:8080/",
          "height": 204
        },
        "id": "0biB1mFo7vDQ",
        "outputId": "eca614d8-8569-4956-8cd9-9e7e4790aecb"
      },
      "source": [
        "nm.head()\n"
      ],
      "execution_count": null,
      "outputs": [
        {
          "output_type": "execute_result",
          "data": {
            "text/html": [
              "<div>\n",
              "<style scoped>\n",
              "    .dataframe tbody tr th:only-of-type {\n",
              "        vertical-align: middle;\n",
              "    }\n",
              "\n",
              "    .dataframe tbody tr th {\n",
              "        vertical-align: top;\n",
              "    }\n",
              "\n",
              "    .dataframe thead th {\n",
              "        text-align: right;\n",
              "    }\n",
              "</style>\n",
              "<table border=\"1\" class=\"dataframe\">\n",
              "  <thead>\n",
              "    <tr style=\"text-align: right;\">\n",
              "      <th></th>\n",
              "      <th>ID_ARTC</th>\n",
              "      <th>LB_VENT_RAYN</th>\n",
              "      <th>LB_VENT_FAML</th>\n",
              "      <th>LB_VENT_SOUS_FAML</th>\n",
              "    </tr>\n",
              "  </thead>\n",
              "  <tbody>\n",
              "    <tr>\n",
              "      <th>0</th>\n",
              "      <td>905</td>\n",
              "      <td>CREMERIE LS</td>\n",
              "      <td>ULTRA FRAIS</td>\n",
              "      <td>ULTRA FRAIS - SS-FAML 2</td>\n",
              "    </tr>\n",
              "    <tr>\n",
              "      <th>1</th>\n",
              "      <td>477</td>\n",
              "      <td>LIQUIDES</td>\n",
              "      <td>BOISSONS GAZEUSES ET PLATES</td>\n",
              "      <td>BOISSONS GAZEUSES ET PLATES - SS-FAML 6</td>\n",
              "    </tr>\n",
              "    <tr>\n",
              "      <th>2</th>\n",
              "      <td>863</td>\n",
              "      <td>LIQUIDES</td>\n",
              "      <td>BIERES ET CIDRES</td>\n",
              "      <td>BIERES ET CIDRES - SS-FAML 2</td>\n",
              "    </tr>\n",
              "    <tr>\n",
              "      <th>3</th>\n",
              "      <td>1741</td>\n",
              "      <td>EPICERIE SUCREE</td>\n",
              "      <td>CAFES / CHICOREE</td>\n",
              "      <td>CAFES / CHICOREE - SS-FAML 2</td>\n",
              "    </tr>\n",
              "    <tr>\n",
              "      <th>4</th>\n",
              "      <td>983</td>\n",
              "      <td>CREMERIE LS</td>\n",
              "      <td>FROMAGE LS</td>\n",
              "      <td>FROMAGE LS - SS-FAML 2</td>\n",
              "    </tr>\n",
              "  </tbody>\n",
              "</table>\n",
              "</div>"
            ],
            "text/plain": [
              "   ID_ARTC  ...                        LB_VENT_SOUS_FAML\n",
              "0      905  ...                  ULTRA FRAIS - SS-FAML 2\n",
              "1      477  ...  BOISSONS GAZEUSES ET PLATES - SS-FAML 6\n",
              "2      863  ...             BIERES ET CIDRES - SS-FAML 2\n",
              "3     1741  ...             CAFES / CHICOREE - SS-FAML 2\n",
              "4      983  ...                   FROMAGE LS - SS-FAML 2\n",
              "\n",
              "[5 rows x 4 columns]"
            ]
          },
          "metadata": {
            "tags": []
          },
          "execution_count": 8
        }
      ]
    },
    {
      "cell_type": "code",
      "metadata": {
        "colab": {
          "base_uri": "https://localhost:8080/",
          "height": 204
        },
        "id": "fVhR8fC19TGi",
        "outputId": "2df2a91b-fec6-49d9-e7ae-0b6f62892039"
      },
      "source": [
        "PdV.head()"
      ],
      "execution_count": null,
      "outputs": [
        {
          "output_type": "execute_result",
          "data": {
            "text/html": [
              "<div>\n",
              "<style scoped>\n",
              "    .dataframe tbody tr th:only-of-type {\n",
              "        vertical-align: middle;\n",
              "    }\n",
              "\n",
              "    .dataframe tbody tr th {\n",
              "        vertical-align: top;\n",
              "    }\n",
              "\n",
              "    .dataframe thead th {\n",
              "        text-align: right;\n",
              "    }\n",
              "</style>\n",
              "<table border=\"1\" class=\"dataframe\">\n",
              "  <thead>\n",
              "    <tr style=\"text-align: right;\">\n",
              "      <th></th>\n",
              "      <th>ID_PDV</th>\n",
              "      <th>ID_VOCT</th>\n",
              "      <th>ID_REGN</th>\n",
              "      <th>NB_CAIS_GRP</th>\n",
              "      <th>SURF_GRP</th>\n",
              "    </tr>\n",
              "  </thead>\n",
              "  <tbody>\n",
              "    <tr>\n",
              "      <th>0</th>\n",
              "      <td>1</td>\n",
              "      <td>VOC_1</td>\n",
              "      <td>RGN_1</td>\n",
              "      <td>NB_CAIS_G_1</td>\n",
              "      <td>SURF_G_1</td>\n",
              "    </tr>\n",
              "    <tr>\n",
              "      <th>1</th>\n",
              "      <td>10</td>\n",
              "      <td>VOC_1</td>\n",
              "      <td>RGN_4</td>\n",
              "      <td>NB_CAIS_G_1</td>\n",
              "      <td>SURF_G_2</td>\n",
              "    </tr>\n",
              "    <tr>\n",
              "      <th>2</th>\n",
              "      <td>100</td>\n",
              "      <td>VOC_4</td>\n",
              "      <td>RGN_7</td>\n",
              "      <td>NB_CAIS_G_4</td>\n",
              "      <td>SURF_G_3</td>\n",
              "    </tr>\n",
              "    <tr>\n",
              "      <th>3</th>\n",
              "      <td>101</td>\n",
              "      <td>VOC_4</td>\n",
              "      <td>RGN_7</td>\n",
              "      <td>NB_CAIS_G_2</td>\n",
              "      <td>SURF_G_3</td>\n",
              "    </tr>\n",
              "    <tr>\n",
              "      <th>4</th>\n",
              "      <td>102</td>\n",
              "      <td>VOC_4</td>\n",
              "      <td>RGN_7</td>\n",
              "      <td>NB_CAIS_G_3</td>\n",
              "      <td>SURF_G_3</td>\n",
              "    </tr>\n",
              "  </tbody>\n",
              "</table>\n",
              "</div>"
            ],
            "text/plain": [
              "   ID_PDV ID_VOCT ID_REGN  NB_CAIS_GRP  SURF_GRP\n",
              "0       1   VOC_1   RGN_1  NB_CAIS_G_1  SURF_G_1\n",
              "1      10   VOC_1   RGN_4  NB_CAIS_G_1  SURF_G_2\n",
              "2     100   VOC_4   RGN_7  NB_CAIS_G_4  SURF_G_3\n",
              "3     101   VOC_4   RGN_7  NB_CAIS_G_2  SURF_G_3\n",
              "4     102   VOC_4   RGN_7  NB_CAIS_G_3  SURF_G_3"
            ]
          },
          "metadata": {
            "tags": []
          },
          "execution_count": 9
        }
      ]
    },
    {
      "cell_type": "code",
      "metadata": {
        "colab": {
          "base_uri": "https://localhost:8080/",
          "height": 204
        },
        "id": "MEJanysN9XoK",
        "outputId": "fd19f60d-0cc1-40e3-ab78-7fbc1bc94f35"
      },
      "source": [
        "PrV.head()"
      ],
      "execution_count": null,
      "outputs": [
        {
          "output_type": "execute_result",
          "data": {
            "text/html": [
              "<div>\n",
              "<style scoped>\n",
              "    .dataframe tbody tr th:only-of-type {\n",
              "        vertical-align: middle;\n",
              "    }\n",
              "\n",
              "    .dataframe tbody tr th {\n",
              "        vertical-align: top;\n",
              "    }\n",
              "\n",
              "    .dataframe thead th {\n",
              "        text-align: right;\n",
              "    }\n",
              "</style>\n",
              "<table border=\"1\" class=\"dataframe\">\n",
              "  <thead>\n",
              "    <tr style=\"text-align: right;\">\n",
              "      <th></th>\n",
              "      <th>ID_PDV</th>\n",
              "      <th>ID_ARTC</th>\n",
              "      <th>ANNEE</th>\n",
              "      <th>TRIMESTRE</th>\n",
              "      <th>PRIX_UNITAIRE</th>\n",
              "    </tr>\n",
              "  </thead>\n",
              "  <tbody>\n",
              "    <tr>\n",
              "      <th>0</th>\n",
              "      <td>44</td>\n",
              "      <td>968</td>\n",
              "      <td>2019</td>\n",
              "      <td>1</td>\n",
              "      <td>Entre 3 et 3.99€</td>\n",
              "    </tr>\n",
              "    <tr>\n",
              "      <th>1</th>\n",
              "      <td>44</td>\n",
              "      <td>639</td>\n",
              "      <td>2018</td>\n",
              "      <td>3</td>\n",
              "      <td>Entre 2 et 2.99€</td>\n",
              "    </tr>\n",
              "    <tr>\n",
              "      <th>2</th>\n",
              "      <td>44</td>\n",
              "      <td>574</td>\n",
              "      <td>2019</td>\n",
              "      <td>1</td>\n",
              "      <td>Moins de 0.99€</td>\n",
              "    </tr>\n",
              "    <tr>\n",
              "      <th>3</th>\n",
              "      <td>44</td>\n",
              "      <td>781</td>\n",
              "      <td>2018</td>\n",
              "      <td>3</td>\n",
              "      <td>Moins de 0.99€</td>\n",
              "    </tr>\n",
              "    <tr>\n",
              "      <th>4</th>\n",
              "      <td>44</td>\n",
              "      <td>543</td>\n",
              "      <td>2018</td>\n",
              "      <td>1</td>\n",
              "      <td>Entre 1 et 1.99€</td>\n",
              "    </tr>\n",
              "  </tbody>\n",
              "</table>\n",
              "</div>"
            ],
            "text/plain": [
              "   ID_PDV  ID_ARTC  ANNEE  TRIMESTRE     PRIX_UNITAIRE\n",
              "0      44      968   2019          1  Entre 3 et 3.99€\n",
              "1      44      639   2018          3  Entre 2 et 2.99€\n",
              "2      44      574   2019          1    Moins de 0.99€\n",
              "3      44      781   2018          3    Moins de 0.99€\n",
              "4      44      543   2018          1  Entre 1 et 1.99€"
            ]
          },
          "metadata": {
            "tags": []
          },
          "execution_count": 10
        }
      ]
    },
    {
      "cell_type": "code",
      "metadata": {
        "colab": {
          "base_uri": "https://localhost:8080/",
          "height": 204
        },
        "id": "VLtIOaWC9ckC",
        "outputId": "79f76557-1ca2-4202-91ae-776ff4ed6be6"
      },
      "source": [
        "V_18.head()"
      ],
      "execution_count": null,
      "outputs": [
        {
          "output_type": "execute_result",
          "data": {
            "text/html": [
              "<div>\n",
              "<style scoped>\n",
              "    .dataframe tbody tr th:only-of-type {\n",
              "        vertical-align: middle;\n",
              "    }\n",
              "\n",
              "    .dataframe tbody tr th {\n",
              "        vertical-align: top;\n",
              "    }\n",
              "\n",
              "    .dataframe thead th {\n",
              "        text-align: right;\n",
              "    }\n",
              "</style>\n",
              "<table border=\"1\" class=\"dataframe\">\n",
              "  <thead>\n",
              "    <tr style=\"text-align: right;\">\n",
              "      <th></th>\n",
              "      <th>ID_PDV</th>\n",
              "      <th>ID_ARTC</th>\n",
              "      <th>DATE</th>\n",
              "      <th>QTE</th>\n",
              "    </tr>\n",
              "  </thead>\n",
              "  <tbody>\n",
              "    <tr>\n",
              "      <th>0</th>\n",
              "      <td>102</td>\n",
              "      <td>398</td>\n",
              "      <td>2018-05-14</td>\n",
              "      <td>3</td>\n",
              "    </tr>\n",
              "    <tr>\n",
              "      <th>1</th>\n",
              "      <td>102</td>\n",
              "      <td>2273</td>\n",
              "      <td>2018-05-14</td>\n",
              "      <td>1</td>\n",
              "    </tr>\n",
              "    <tr>\n",
              "      <th>2</th>\n",
              "      <td>5</td>\n",
              "      <td>1345</td>\n",
              "      <td>2018-05-14</td>\n",
              "      <td>1</td>\n",
              "    </tr>\n",
              "    <tr>\n",
              "      <th>3</th>\n",
              "      <td>87</td>\n",
              "      <td>290</td>\n",
              "      <td>2018-05-14</td>\n",
              "      <td>9</td>\n",
              "    </tr>\n",
              "    <tr>\n",
              "      <th>4</th>\n",
              "      <td>118</td>\n",
              "      <td>7</td>\n",
              "      <td>2018-05-14</td>\n",
              "      <td>15</td>\n",
              "    </tr>\n",
              "  </tbody>\n",
              "</table>\n",
              "</div>"
            ],
            "text/plain": [
              "   ID_PDV  ID_ARTC        DATE  QTE\n",
              "0     102      398  2018-05-14    3\n",
              "1     102     2273  2018-05-14    1\n",
              "2       5     1345  2018-05-14    1\n",
              "3      87      290  2018-05-14    9\n",
              "4     118        7  2018-05-14   15"
            ]
          },
          "metadata": {
            "tags": []
          },
          "execution_count": 11
        }
      ]
    },
    {
      "cell_type": "code",
      "metadata": {
        "colab": {
          "base_uri": "https://localhost:8080/"
        },
        "id": "a6IZMyBuh2JN",
        "outputId": "6cff1f4b-9940-47e6-a6eb-d95752a7f111"
      },
      "source": [
        "nm.shape,PdV.shape,PrV.shape,V_18.shape"
      ],
      "execution_count": null,
      "outputs": [
        {
          "output_type": "execute_result",
          "data": {
            "text/plain": [
              "((2500, 4), (149, 5), (1185315, 5), (32793018, 4))"
            ]
          },
          "metadata": {
            "tags": []
          },
          "execution_count": 12
        }
      ]
    },
    {
      "cell_type": "code",
      "metadata": {
        "id": "ZAwlVnvI9Qds"
      },
      "source": [
        ""
      ],
      "execution_count": null,
      "outputs": []
    },
    {
      "cell_type": "code",
      "metadata": {
        "colab": {
          "base_uri": "https://localhost:8080/",
          "height": 204
        },
        "id": "vjkMiDT9DJ5Q",
        "outputId": "d30f8802-b22f-49db-ff04-add1ce8f0ede"
      },
      "source": [
        "V_18.head()"
      ],
      "execution_count": null,
      "outputs": [
        {
          "output_type": "execute_result",
          "data": {
            "text/html": [
              "<div>\n",
              "<style scoped>\n",
              "    .dataframe tbody tr th:only-of-type {\n",
              "        vertical-align: middle;\n",
              "    }\n",
              "\n",
              "    .dataframe tbody tr th {\n",
              "        vertical-align: top;\n",
              "    }\n",
              "\n",
              "    .dataframe thead th {\n",
              "        text-align: right;\n",
              "    }\n",
              "</style>\n",
              "<table border=\"1\" class=\"dataframe\">\n",
              "  <thead>\n",
              "    <tr style=\"text-align: right;\">\n",
              "      <th></th>\n",
              "      <th>ID_PDV</th>\n",
              "      <th>ID_ARTC</th>\n",
              "      <th>DATE</th>\n",
              "      <th>QTE</th>\n",
              "    </tr>\n",
              "  </thead>\n",
              "  <tbody>\n",
              "    <tr>\n",
              "      <th>0</th>\n",
              "      <td>102</td>\n",
              "      <td>398</td>\n",
              "      <td>2018-05-14</td>\n",
              "      <td>3</td>\n",
              "    </tr>\n",
              "    <tr>\n",
              "      <th>1</th>\n",
              "      <td>102</td>\n",
              "      <td>2273</td>\n",
              "      <td>2018-05-14</td>\n",
              "      <td>1</td>\n",
              "    </tr>\n",
              "    <tr>\n",
              "      <th>2</th>\n",
              "      <td>5</td>\n",
              "      <td>1345</td>\n",
              "      <td>2018-05-14</td>\n",
              "      <td>1</td>\n",
              "    </tr>\n",
              "    <tr>\n",
              "      <th>3</th>\n",
              "      <td>87</td>\n",
              "      <td>290</td>\n",
              "      <td>2018-05-14</td>\n",
              "      <td>9</td>\n",
              "    </tr>\n",
              "    <tr>\n",
              "      <th>4</th>\n",
              "      <td>118</td>\n",
              "      <td>7</td>\n",
              "      <td>2018-05-14</td>\n",
              "      <td>15</td>\n",
              "    </tr>\n",
              "  </tbody>\n",
              "</table>\n",
              "</div>"
            ],
            "text/plain": [
              "   ID_PDV  ID_ARTC        DATE  QTE\n",
              "0     102      398  2018-05-14    3\n",
              "1     102     2273  2018-05-14    1\n",
              "2       5     1345  2018-05-14    1\n",
              "3      87      290  2018-05-14    9\n",
              "4     118        7  2018-05-14   15"
            ]
          },
          "metadata": {
            "tags": []
          },
          "execution_count": 107
        }
      ]
    },
    {
      "cell_type": "code",
      "metadata": {
        "colab": {
          "base_uri": "https://localhost:8080/"
        },
        "id": "OM-8OtcXGPc7",
        "outputId": "63b92887-fbc9-4b44-dba1-2fedbc2e9a3c"
      },
      "source": [
        "\n",
        "gc.collect() #nettoie la ram"
      ],
      "execution_count": null,
      "outputs": [
        {
          "output_type": "execute_result",
          "data": {
            "text/plain": [
              "88"
            ]
          },
          "metadata": {
            "tags": []
          },
          "execution_count": 9
        }
      ]
    },
    {
      "cell_type": "code",
      "metadata": {
        "colab": {
          "base_uri": "https://localhost:8080/",
          "height": 204
        },
        "id": "-oDwiWlLS7Yi",
        "outputId": "05923546-6f17-45f0-8d54-213c21757ec3"
      },
      "source": [
        "# je retire les Pdv 2019 et les point de vente\n",
        "\n",
        "PrV_2018 = PrV[PrV['ANNEE'] == 2018]\n",
        "PrV_2018 = PrV_2018.drop(['ID_PDV','TRIMESTRE','ANNEE'], axis = 1)\n",
        "\n",
        "PrV_2018.head()\n",
        "#Prv_2018['ANNEE'].unique()"
      ],
      "execution_count": null,
      "outputs": [
        {
          "output_type": "execute_result",
          "data": {
            "text/html": [
              "<div>\n",
              "<style scoped>\n",
              "    .dataframe tbody tr th:only-of-type {\n",
              "        vertical-align: middle;\n",
              "    }\n",
              "\n",
              "    .dataframe tbody tr th {\n",
              "        vertical-align: top;\n",
              "    }\n",
              "\n",
              "    .dataframe thead th {\n",
              "        text-align: right;\n",
              "    }\n",
              "</style>\n",
              "<table border=\"1\" class=\"dataframe\">\n",
              "  <thead>\n",
              "    <tr style=\"text-align: right;\">\n",
              "      <th></th>\n",
              "      <th>ID_ARTC</th>\n",
              "      <th>PRIX_UNITAIRE</th>\n",
              "    </tr>\n",
              "  </thead>\n",
              "  <tbody>\n",
              "    <tr>\n",
              "      <th>1</th>\n",
              "      <td>639</td>\n",
              "      <td>Entre 2 et 2.99€</td>\n",
              "    </tr>\n",
              "    <tr>\n",
              "      <th>3</th>\n",
              "      <td>781</td>\n",
              "      <td>Moins de 0.99€</td>\n",
              "    </tr>\n",
              "    <tr>\n",
              "      <th>4</th>\n",
              "      <td>543</td>\n",
              "      <td>Entre 1 et 1.99€</td>\n",
              "    </tr>\n",
              "    <tr>\n",
              "      <th>5</th>\n",
              "      <td>399</td>\n",
              "      <td>Entre 2 et 2.99€</td>\n",
              "    </tr>\n",
              "    <tr>\n",
              "      <th>6</th>\n",
              "      <td>262</td>\n",
              "      <td>Entre 1 et 1.99€</td>\n",
              "    </tr>\n",
              "  </tbody>\n",
              "</table>\n",
              "</div>"
            ],
            "text/plain": [
              "   ID_ARTC     PRIX_UNITAIRE\n",
              "1      639  Entre 2 et 2.99€\n",
              "3      781    Moins de 0.99€\n",
              "4      543  Entre 1 et 1.99€\n",
              "5      399  Entre 2 et 2.99€\n",
              "6      262  Entre 1 et 1.99€"
            ]
          },
          "metadata": {
            "tags": []
          },
          "execution_count": 7
        }
      ]
    },
    {
      "cell_type": "code",
      "metadata": {
        "id": "NUPGpNnqtZJL"
      },
      "source": [
        "# gerer la colonne  PRIX_UNITAIRE\n",
        "import re\n",
        "\n",
        "def MoyenneCol(df,col) :\n",
        "   M = []\n",
        "   for i in df[col]:\n",
        "     L = re.findall(r\"(?:\\d+)[.\\d]*\", i  )\n",
        "     m = [float(i) for i in L] # convertir en float \n",
        "     M.append(np.sum(m)/2)\n",
        "   return M"
      ],
      "execution_count": null,
      "outputs": []
    },
    {
      "cell_type": "code",
      "metadata": {
        "id": "jbAbuX-Ste2F"
      },
      "source": [
        "PrV_2018['prix'] = MoyenneCol(PrV_2018,'PRIX_UNITAIRE')"
      ],
      "execution_count": null,
      "outputs": []
    },
    {
      "cell_type": "code",
      "metadata": {
        "id": "u8yxxuNIt3Lf"
      },
      "source": [
        "PrV_2018.drop('PRIX_UNITAIRE', axis = 1, inplace= True)\n"
      ],
      "execution_count": null,
      "outputs": []
    },
    {
      "cell_type": "code",
      "metadata": {
        "colab": {
          "base_uri": "https://localhost:8080/",
          "height": 204
        },
        "id": "8zcv-u_YuZhg",
        "outputId": "c788b1d6-e57b-412c-ac44-1793ee39d144"
      },
      "source": [
        "PrV_2018.head()"
      ],
      "execution_count": null,
      "outputs": [
        {
          "output_type": "execute_result",
          "data": {
            "text/html": [
              "<div>\n",
              "<style scoped>\n",
              "    .dataframe tbody tr th:only-of-type {\n",
              "        vertical-align: middle;\n",
              "    }\n",
              "\n",
              "    .dataframe tbody tr th {\n",
              "        vertical-align: top;\n",
              "    }\n",
              "\n",
              "    .dataframe thead th {\n",
              "        text-align: right;\n",
              "    }\n",
              "</style>\n",
              "<table border=\"1\" class=\"dataframe\">\n",
              "  <thead>\n",
              "    <tr style=\"text-align: right;\">\n",
              "      <th></th>\n",
              "      <th>ID_ARTC</th>\n",
              "      <th>prix</th>\n",
              "    </tr>\n",
              "  </thead>\n",
              "  <tbody>\n",
              "    <tr>\n",
              "      <th>1</th>\n",
              "      <td>639</td>\n",
              "      <td>2.495</td>\n",
              "    </tr>\n",
              "    <tr>\n",
              "      <th>3</th>\n",
              "      <td>781</td>\n",
              "      <td>0.495</td>\n",
              "    </tr>\n",
              "    <tr>\n",
              "      <th>4</th>\n",
              "      <td>543</td>\n",
              "      <td>1.495</td>\n",
              "    </tr>\n",
              "    <tr>\n",
              "      <th>5</th>\n",
              "      <td>399</td>\n",
              "      <td>2.495</td>\n",
              "    </tr>\n",
              "    <tr>\n",
              "      <th>6</th>\n",
              "      <td>262</td>\n",
              "      <td>1.495</td>\n",
              "    </tr>\n",
              "  </tbody>\n",
              "</table>\n",
              "</div>"
            ],
            "text/plain": [
              "   ID_ARTC   prix\n",
              "1      639  2.495\n",
              "3      781  0.495\n",
              "4      543  1.495\n",
              "5      399  2.495\n",
              "6      262  1.495"
            ]
          },
          "metadata": {
            "tags": []
          },
          "execution_count": 11
        }
      ]
    },
    {
      "cell_type": "code",
      "metadata": {
        "id": "A2j1ozftb7cQ"
      },
      "source": [
        "# ligne unique de ID_ARTC\n",
        "PrV_2018.drop_duplicates('ID_ARTC', keep= 'first',inplace= True)\n"
      ],
      "execution_count": null,
      "outputs": []
    },
    {
      "cell_type": "code",
      "metadata": {
        "colab": {
          "base_uri": "https://localhost:8080/"
        },
        "id": "Lu0--y3HZ-CI",
        "outputId": "2a89f5fe-fa10-4c88-dc18-4021616bdc8d"
      },
      "source": [
        "gc.collect() #nettoie la ram"
      ],
      "execution_count": null,
      "outputs": [
        {
          "output_type": "execute_result",
          "data": {
            "text/plain": [
              "88"
            ]
          },
          "metadata": {
            "tags": []
          },
          "execution_count": 48
        }
      ]
    },
    {
      "cell_type": "code",
      "metadata": {
        "id": "IBaWukXxPvgJ"
      },
      "source": [
        "df_final =  pd.merge(V_18,PdV, on = 'ID_PDV' , how ='outer' )\n",
        "#df_final.head()\n",
        "#df_final.shape"
      ],
      "execution_count": null,
      "outputs": []
    },
    {
      "cell_type": "code",
      "metadata": {
        "colab": {
          "base_uri": "https://localhost:8080/",
          "height": 204
        },
        "id": "BFyMNlFrUKXU",
        "outputId": "13089bf2-7569-44df-8242-29ddc7e64440"
      },
      "source": [
        "# merge des 3 tables\n",
        "df_final1 =  pd.merge(df_final,PrV_2018, on = 'ID_ARTC' , how ='outer' )\n",
        "df_final1.head()"
      ],
      "execution_count": null,
      "outputs": [
        {
          "output_type": "execute_result",
          "data": {
            "text/html": [
              "<div>\n",
              "<style scoped>\n",
              "    .dataframe tbody tr th:only-of-type {\n",
              "        vertical-align: middle;\n",
              "    }\n",
              "\n",
              "    .dataframe tbody tr th {\n",
              "        vertical-align: top;\n",
              "    }\n",
              "\n",
              "    .dataframe thead th {\n",
              "        text-align: right;\n",
              "    }\n",
              "</style>\n",
              "<table border=\"1\" class=\"dataframe\">\n",
              "  <thead>\n",
              "    <tr style=\"text-align: right;\">\n",
              "      <th></th>\n",
              "      <th>ID_PDV</th>\n",
              "      <th>ID_ARTC</th>\n",
              "      <th>DATE</th>\n",
              "      <th>QTE</th>\n",
              "      <th>ID_VOCT</th>\n",
              "      <th>ID_REGN</th>\n",
              "      <th>NB_CAIS_GRP</th>\n",
              "      <th>SURF_GRP</th>\n",
              "      <th>prix</th>\n",
              "    </tr>\n",
              "  </thead>\n",
              "  <tbody>\n",
              "    <tr>\n",
              "      <th>0</th>\n",
              "      <td>102</td>\n",
              "      <td>398</td>\n",
              "      <td>2018-05-14</td>\n",
              "      <td>3</td>\n",
              "      <td>VOC_4</td>\n",
              "      <td>RGN_7</td>\n",
              "      <td>NB_CAIS_G_3</td>\n",
              "      <td>SURF_G_3</td>\n",
              "      <td>2.495</td>\n",
              "    </tr>\n",
              "    <tr>\n",
              "      <th>1</th>\n",
              "      <td>102</td>\n",
              "      <td>398</td>\n",
              "      <td>2018-08-13</td>\n",
              "      <td>11</td>\n",
              "      <td>VOC_4</td>\n",
              "      <td>RGN_7</td>\n",
              "      <td>NB_CAIS_G_3</td>\n",
              "      <td>SURF_G_3</td>\n",
              "      <td>2.495</td>\n",
              "    </tr>\n",
              "    <tr>\n",
              "      <th>2</th>\n",
              "      <td>102</td>\n",
              "      <td>398</td>\n",
              "      <td>2018-02-10</td>\n",
              "      <td>5</td>\n",
              "      <td>VOC_4</td>\n",
              "      <td>RGN_7</td>\n",
              "      <td>NB_CAIS_G_3</td>\n",
              "      <td>SURF_G_3</td>\n",
              "      <td>2.495</td>\n",
              "    </tr>\n",
              "    <tr>\n",
              "      <th>3</th>\n",
              "      <td>102</td>\n",
              "      <td>398</td>\n",
              "      <td>2018-05-02</td>\n",
              "      <td>7</td>\n",
              "      <td>VOC_4</td>\n",
              "      <td>RGN_7</td>\n",
              "      <td>NB_CAIS_G_3</td>\n",
              "      <td>SURF_G_3</td>\n",
              "      <td>2.495</td>\n",
              "    </tr>\n",
              "    <tr>\n",
              "      <th>4</th>\n",
              "      <td>102</td>\n",
              "      <td>398</td>\n",
              "      <td>2018-09-12</td>\n",
              "      <td>4</td>\n",
              "      <td>VOC_4</td>\n",
              "      <td>RGN_7</td>\n",
              "      <td>NB_CAIS_G_3</td>\n",
              "      <td>SURF_G_3</td>\n",
              "      <td>2.495</td>\n",
              "    </tr>\n",
              "  </tbody>\n",
              "</table>\n",
              "</div>"
            ],
            "text/plain": [
              "   ID_PDV  ID_ARTC        DATE  QTE  ... ID_REGN  NB_CAIS_GRP  SURF_GRP   prix\n",
              "0     102      398  2018-05-14    3  ...   RGN_7  NB_CAIS_G_3  SURF_G_3  2.495\n",
              "1     102      398  2018-08-13   11  ...   RGN_7  NB_CAIS_G_3  SURF_G_3  2.495\n",
              "2     102      398  2018-02-10    5  ...   RGN_7  NB_CAIS_G_3  SURF_G_3  2.495\n",
              "3     102      398  2018-05-02    7  ...   RGN_7  NB_CAIS_G_3  SURF_G_3  2.495\n",
              "4     102      398  2018-09-12    4  ...   RGN_7  NB_CAIS_G_3  SURF_G_3  2.495\n",
              "\n",
              "[5 rows x 9 columns]"
            ]
          },
          "metadata": {
            "tags": []
          },
          "execution_count": 14
        }
      ]
    },
    {
      "cell_type": "code",
      "metadata": {
        "id": "Lg49jGxTnHKF"
      },
      "source": [
        ""
      ],
      "execution_count": null,
      "outputs": []
    },
    {
      "cell_type": "code",
      "metadata": {
        "id": "IZs_XlfUk1h3"
      },
      "source": [
        "# encoder \n",
        "from sklearn import preprocessing\n",
        "le = preprocessing.LabelEncoder()\n",
        "le.fit(df_final1['ID_VOCT'].unique())\n",
        "le.transform(df_final1['ID_VOCT'].unique())\n",
        "\n",
        "df_final1['ID_VOCT']= le.transform(df_final1['ID_VOCT'])\n",
        "\n"
      ],
      "execution_count": null,
      "outputs": []
    },
    {
      "cell_type": "code",
      "metadata": {
        "id": "AkYXnbBemoFk"
      },
      "source": [
        "VarCategori = []"
      ],
      "execution_count": null,
      "outputs": []
    },
    {
      "cell_type": "code",
      "metadata": {
        "id": "iGqhpBY80m23"
      },
      "source": [
        "le.fit(df_final1['ID_VOCT'].unique())\n",
        "le.transform(df_final1['ID_VOCT'].unique())\n",
        "\n",
        "df_final1['ID_VOCT']= le.transform(df_final1['ID_VOCT'])\n"
      ],
      "execution_count": null,
      "outputs": []
    },
    {
      "cell_type": "code",
      "metadata": {
        "colab": {
          "base_uri": "https://localhost:8080/",
          "height": 204
        },
        "id": "q-RScjEH0idN",
        "outputId": "4a30edaf-8cf0-4df3-8b69-39e82cac1db7"
      },
      "source": [
        "df_final1.head()"
      ],
      "execution_count": null,
      "outputs": [
        {
          "output_type": "execute_result",
          "data": {
            "text/html": [
              "<div>\n",
              "<style scoped>\n",
              "    .dataframe tbody tr th:only-of-type {\n",
              "        vertical-align: middle;\n",
              "    }\n",
              "\n",
              "    .dataframe tbody tr th {\n",
              "        vertical-align: top;\n",
              "    }\n",
              "\n",
              "    .dataframe thead th {\n",
              "        text-align: right;\n",
              "    }\n",
              "</style>\n",
              "<table border=\"1\" class=\"dataframe\">\n",
              "  <thead>\n",
              "    <tr style=\"text-align: right;\">\n",
              "      <th></th>\n",
              "      <th>ID_PDV</th>\n",
              "      <th>ID_ARTC</th>\n",
              "      <th>DATE</th>\n",
              "      <th>QTE</th>\n",
              "      <th>ID_VOCT</th>\n",
              "      <th>ID_REGN</th>\n",
              "      <th>NB_CAIS_GRP</th>\n",
              "      <th>SURF_GRP</th>\n",
              "      <th>prix</th>\n",
              "    </tr>\n",
              "  </thead>\n",
              "  <tbody>\n",
              "    <tr>\n",
              "      <th>0</th>\n",
              "      <td>102</td>\n",
              "      <td>398</td>\n",
              "      <td>2018-05-14</td>\n",
              "      <td>3</td>\n",
              "      <td>3</td>\n",
              "      <td>RGN_7</td>\n",
              "      <td>NB_CAIS_G_3</td>\n",
              "      <td>SURF_G_3</td>\n",
              "      <td>2.495</td>\n",
              "    </tr>\n",
              "    <tr>\n",
              "      <th>1</th>\n",
              "      <td>102</td>\n",
              "      <td>398</td>\n",
              "      <td>2018-08-13</td>\n",
              "      <td>11</td>\n",
              "      <td>3</td>\n",
              "      <td>RGN_7</td>\n",
              "      <td>NB_CAIS_G_3</td>\n",
              "      <td>SURF_G_3</td>\n",
              "      <td>2.495</td>\n",
              "    </tr>\n",
              "    <tr>\n",
              "      <th>2</th>\n",
              "      <td>102</td>\n",
              "      <td>398</td>\n",
              "      <td>2018-02-10</td>\n",
              "      <td>5</td>\n",
              "      <td>3</td>\n",
              "      <td>RGN_7</td>\n",
              "      <td>NB_CAIS_G_3</td>\n",
              "      <td>SURF_G_3</td>\n",
              "      <td>2.495</td>\n",
              "    </tr>\n",
              "    <tr>\n",
              "      <th>3</th>\n",
              "      <td>102</td>\n",
              "      <td>398</td>\n",
              "      <td>2018-05-02</td>\n",
              "      <td>7</td>\n",
              "      <td>3</td>\n",
              "      <td>RGN_7</td>\n",
              "      <td>NB_CAIS_G_3</td>\n",
              "      <td>SURF_G_3</td>\n",
              "      <td>2.495</td>\n",
              "    </tr>\n",
              "    <tr>\n",
              "      <th>4</th>\n",
              "      <td>102</td>\n",
              "      <td>398</td>\n",
              "      <td>2018-09-12</td>\n",
              "      <td>4</td>\n",
              "      <td>3</td>\n",
              "      <td>RGN_7</td>\n",
              "      <td>NB_CAIS_G_3</td>\n",
              "      <td>SURF_G_3</td>\n",
              "      <td>2.495</td>\n",
              "    </tr>\n",
              "  </tbody>\n",
              "</table>\n",
              "</div>"
            ],
            "text/plain": [
              "   ID_PDV  ID_ARTC        DATE  QTE  ...  ID_REGN  NB_CAIS_GRP  SURF_GRP   prix\n",
              "0     102      398  2018-05-14    3  ...    RGN_7  NB_CAIS_G_3  SURF_G_3  2.495\n",
              "1     102      398  2018-08-13   11  ...    RGN_7  NB_CAIS_G_3  SURF_G_3  2.495\n",
              "2     102      398  2018-02-10    5  ...    RGN_7  NB_CAIS_G_3  SURF_G_3  2.495\n",
              "3     102      398  2018-05-02    7  ...    RGN_7  NB_CAIS_G_3  SURF_G_3  2.495\n",
              "4     102      398  2018-09-12    4  ...    RGN_7  NB_CAIS_G_3  SURF_G_3  2.495\n",
              "\n",
              "[5 rows x 9 columns]"
            ]
          },
          "metadata": {
            "tags": []
          },
          "execution_count": 17
        }
      ]
    },
    {
      "cell_type": "code",
      "metadata": {
        "id": "o6hFaxY9nr2U"
      },
      "source": [
        "def preTraitement(df, colCategory, trainable=True):\n",
        "\n",
        "  \n",
        "   #Gestion de la date\n",
        "\n",
        "  df['DATE'] = pd.to_datetime(df[\"DATE\"])\n",
        "  df['day'] = df.DATE.dt.day #création de la variable day\n",
        "  df['month'] = df.DATE.dt.month #création de la variable month\n",
        "  df['weekday'] = df.DATE.dt.weekday\n",
        "  del df['DATE']"
      ],
      "execution_count": null,
      "outputs": []
    },
    {
      "cell_type": "code",
      "metadata": {
        "id": "Aps337X0nxtK"
      },
      "source": [
        "preTraitement(df_final1, 'ID_PDV', trainable=True)"
      ],
      "execution_count": null,
      "outputs": []
    },
    {
      "cell_type": "code",
      "metadata": {
        "colab": {
          "base_uri": "https://localhost:8080/",
          "height": 204
        },
        "id": "J-yyP-65o2Jc",
        "outputId": "c0302574-9773-48c0-a907-cebfec1e1406"
      },
      "source": [
        "df_final1.head()"
      ],
      "execution_count": null,
      "outputs": [
        {
          "output_type": "execute_result",
          "data": {
            "text/html": [
              "<div>\n",
              "<style scoped>\n",
              "    .dataframe tbody tr th:only-of-type {\n",
              "        vertical-align: middle;\n",
              "    }\n",
              "\n",
              "    .dataframe tbody tr th {\n",
              "        vertical-align: top;\n",
              "    }\n",
              "\n",
              "    .dataframe thead th {\n",
              "        text-align: right;\n",
              "    }\n",
              "</style>\n",
              "<table border=\"1\" class=\"dataframe\">\n",
              "  <thead>\n",
              "    <tr style=\"text-align: right;\">\n",
              "      <th></th>\n",
              "      <th>ID_PDV</th>\n",
              "      <th>ID_ARTC</th>\n",
              "      <th>QTE</th>\n",
              "      <th>ID_VOCT</th>\n",
              "      <th>ID_REGN</th>\n",
              "      <th>NB_CAIS_GRP</th>\n",
              "      <th>SURF_GRP</th>\n",
              "      <th>prix</th>\n",
              "      <th>day</th>\n",
              "      <th>month</th>\n",
              "      <th>weekday</th>\n",
              "    </tr>\n",
              "  </thead>\n",
              "  <tbody>\n",
              "    <tr>\n",
              "      <th>0</th>\n",
              "      <td>102</td>\n",
              "      <td>398</td>\n",
              "      <td>3</td>\n",
              "      <td>3</td>\n",
              "      <td>RGN_7</td>\n",
              "      <td>NB_CAIS_G_3</td>\n",
              "      <td>SURF_G_3</td>\n",
              "      <td>2.495</td>\n",
              "      <td>14</td>\n",
              "      <td>5</td>\n",
              "      <td>0</td>\n",
              "    </tr>\n",
              "    <tr>\n",
              "      <th>1</th>\n",
              "      <td>102</td>\n",
              "      <td>398</td>\n",
              "      <td>11</td>\n",
              "      <td>3</td>\n",
              "      <td>RGN_7</td>\n",
              "      <td>NB_CAIS_G_3</td>\n",
              "      <td>SURF_G_3</td>\n",
              "      <td>2.495</td>\n",
              "      <td>13</td>\n",
              "      <td>8</td>\n",
              "      <td>0</td>\n",
              "    </tr>\n",
              "    <tr>\n",
              "      <th>2</th>\n",
              "      <td>102</td>\n",
              "      <td>398</td>\n",
              "      <td>5</td>\n",
              "      <td>3</td>\n",
              "      <td>RGN_7</td>\n",
              "      <td>NB_CAIS_G_3</td>\n",
              "      <td>SURF_G_3</td>\n",
              "      <td>2.495</td>\n",
              "      <td>10</td>\n",
              "      <td>2</td>\n",
              "      <td>5</td>\n",
              "    </tr>\n",
              "    <tr>\n",
              "      <th>3</th>\n",
              "      <td>102</td>\n",
              "      <td>398</td>\n",
              "      <td>7</td>\n",
              "      <td>3</td>\n",
              "      <td>RGN_7</td>\n",
              "      <td>NB_CAIS_G_3</td>\n",
              "      <td>SURF_G_3</td>\n",
              "      <td>2.495</td>\n",
              "      <td>2</td>\n",
              "      <td>5</td>\n",
              "      <td>2</td>\n",
              "    </tr>\n",
              "    <tr>\n",
              "      <th>4</th>\n",
              "      <td>102</td>\n",
              "      <td>398</td>\n",
              "      <td>4</td>\n",
              "      <td>3</td>\n",
              "      <td>RGN_7</td>\n",
              "      <td>NB_CAIS_G_3</td>\n",
              "      <td>SURF_G_3</td>\n",
              "      <td>2.495</td>\n",
              "      <td>12</td>\n",
              "      <td>9</td>\n",
              "      <td>2</td>\n",
              "    </tr>\n",
              "  </tbody>\n",
              "</table>\n",
              "</div>"
            ],
            "text/plain": [
              "   ID_PDV  ID_ARTC  QTE  ID_VOCT ID_REGN  ...  SURF_GRP   prix  day  month  weekday\n",
              "0     102      398    3        3   RGN_7  ...  SURF_G_3  2.495   14      5        0\n",
              "1     102      398   11        3   RGN_7  ...  SURF_G_3  2.495   13      8        0\n",
              "2     102      398    5        3   RGN_7  ...  SURF_G_3  2.495   10      2        5\n",
              "3     102      398    7        3   RGN_7  ...  SURF_G_3  2.495    2      5        2\n",
              "4     102      398    4        3   RGN_7  ...  SURF_G_3  2.495   12      9        2\n",
              "\n",
              "[5 rows x 11 columns]"
            ]
          },
          "metadata": {
            "tags": []
          },
          "execution_count": 20
        }
      ]
    },
    {
      "cell_type": "code",
      "metadata": {
        "id": "HFKzLM1mpvM-"
      },
      "source": [
        "# convertir les variables categorielle en numerique\n",
        "\n",
        "Cat = ['ID_REGN','NB_CAIS_GRP','SURF_GRP']\n",
        "def VarNumerique(df, Cat):\n",
        "  for col in Cat :\n",
        "    le.fit(df_final1[col].unique())\n",
        "    le.transform(df_final1[col].unique())\n",
        "    df_final1[col]= le.transform(df_final1[col])\n",
        "\n",
        "  "
      ],
      "execution_count": null,
      "outputs": []
    },
    {
      "cell_type": "code",
      "metadata": {
        "id": "g9gS0iN2qzh0"
      },
      "source": [
        "VarNumerique(df_final1, Cat)"
      ],
      "execution_count": null,
      "outputs": []
    },
    {
      "cell_type": "code",
      "metadata": {
        "colab": {
          "base_uri": "https://localhost:8080/",
          "height": 204
        },
        "id": "OyFm8ISDreLu",
        "outputId": "b1c93b96-f715-4918-86d2-1107b2ebe475"
      },
      "source": [
        "df_final1.head()"
      ],
      "execution_count": null,
      "outputs": [
        {
          "output_type": "execute_result",
          "data": {
            "text/html": [
              "<div>\n",
              "<style scoped>\n",
              "    .dataframe tbody tr th:only-of-type {\n",
              "        vertical-align: middle;\n",
              "    }\n",
              "\n",
              "    .dataframe tbody tr th {\n",
              "        vertical-align: top;\n",
              "    }\n",
              "\n",
              "    .dataframe thead th {\n",
              "        text-align: right;\n",
              "    }\n",
              "</style>\n",
              "<table border=\"1\" class=\"dataframe\">\n",
              "  <thead>\n",
              "    <tr style=\"text-align: right;\">\n",
              "      <th></th>\n",
              "      <th>ID_PDV</th>\n",
              "      <th>ID_ARTC</th>\n",
              "      <th>QTE</th>\n",
              "      <th>ID_VOCT</th>\n",
              "      <th>ID_REGN</th>\n",
              "      <th>NB_CAIS_GRP</th>\n",
              "      <th>SURF_GRP</th>\n",
              "      <th>prix</th>\n",
              "      <th>day</th>\n",
              "      <th>month</th>\n",
              "      <th>weekday</th>\n",
              "    </tr>\n",
              "  </thead>\n",
              "  <tbody>\n",
              "    <tr>\n",
              "      <th>0</th>\n",
              "      <td>102</td>\n",
              "      <td>398</td>\n",
              "      <td>3</td>\n",
              "      <td>3</td>\n",
              "      <td>6</td>\n",
              "      <td>2</td>\n",
              "      <td>2</td>\n",
              "      <td>2.495</td>\n",
              "      <td>14</td>\n",
              "      <td>5</td>\n",
              "      <td>0</td>\n",
              "    </tr>\n",
              "    <tr>\n",
              "      <th>1</th>\n",
              "      <td>102</td>\n",
              "      <td>398</td>\n",
              "      <td>11</td>\n",
              "      <td>3</td>\n",
              "      <td>6</td>\n",
              "      <td>2</td>\n",
              "      <td>2</td>\n",
              "      <td>2.495</td>\n",
              "      <td>13</td>\n",
              "      <td>8</td>\n",
              "      <td>0</td>\n",
              "    </tr>\n",
              "    <tr>\n",
              "      <th>2</th>\n",
              "      <td>102</td>\n",
              "      <td>398</td>\n",
              "      <td>5</td>\n",
              "      <td>3</td>\n",
              "      <td>6</td>\n",
              "      <td>2</td>\n",
              "      <td>2</td>\n",
              "      <td>2.495</td>\n",
              "      <td>10</td>\n",
              "      <td>2</td>\n",
              "      <td>5</td>\n",
              "    </tr>\n",
              "    <tr>\n",
              "      <th>3</th>\n",
              "      <td>102</td>\n",
              "      <td>398</td>\n",
              "      <td>7</td>\n",
              "      <td>3</td>\n",
              "      <td>6</td>\n",
              "      <td>2</td>\n",
              "      <td>2</td>\n",
              "      <td>2.495</td>\n",
              "      <td>2</td>\n",
              "      <td>5</td>\n",
              "      <td>2</td>\n",
              "    </tr>\n",
              "    <tr>\n",
              "      <th>4</th>\n",
              "      <td>102</td>\n",
              "      <td>398</td>\n",
              "      <td>4</td>\n",
              "      <td>3</td>\n",
              "      <td>6</td>\n",
              "      <td>2</td>\n",
              "      <td>2</td>\n",
              "      <td>2.495</td>\n",
              "      <td>12</td>\n",
              "      <td>9</td>\n",
              "      <td>2</td>\n",
              "    </tr>\n",
              "  </tbody>\n",
              "</table>\n",
              "</div>"
            ],
            "text/plain": [
              "   ID_PDV  ID_ARTC  QTE  ID_VOCT  ID_REGN  ...  SURF_GRP   prix  day  month  weekday\n",
              "0     102      398    3        3        6  ...         2  2.495   14      5        0\n",
              "1     102      398   11        3        6  ...         2  2.495   13      8        0\n",
              "2     102      398    5        3        6  ...         2  2.495   10      2        5\n",
              "3     102      398    7        3        6  ...         2  2.495    2      5        2\n",
              "4     102      398    4        3        6  ...         2  2.495   12      9        2\n",
              "\n",
              "[5 rows x 11 columns]"
            ]
          },
          "metadata": {
            "tags": []
          },
          "execution_count": 25
        }
      ]
    },
    {
      "cell_type": "code",
      "metadata": {
        "id": "_E3zjLVjq8EQ"
      },
      "source": [
        ""
      ],
      "execution_count": null,
      "outputs": []
    },
    {
      "cell_type": "code",
      "metadata": {
        "id": "wgSYwIdKDKEk",
        "colab": {
          "base_uri": "https://localhost:8080/",
          "height": 271
        },
        "outputId": "96fdd5f6-1bc0-4f9b-9cbe-bfe7508465f1"
      },
      "source": [
        "# matrice de correlation \n",
        "\n",
        "corr_df = df_final1.corr(method='pearson')\n",
        "\n",
        "corr_df.style.background_gradient(cmap='coolwarm')"
      ],
      "execution_count": null,
      "outputs": [
        {
          "output_type": "execute_result",
          "data": {
            "text/html": [
              "<style  type=\"text/css\" >\n",
              "#T_f99cdddc_c970_11eb_afe8_0242ac1c0002row0_col0,#T_f99cdddc_c970_11eb_afe8_0242ac1c0002row1_col1,#T_f99cdddc_c970_11eb_afe8_0242ac1c0002row2_col2,#T_f99cdddc_c970_11eb_afe8_0242ac1c0002row3_col3,#T_f99cdddc_c970_11eb_afe8_0242ac1c0002row4_col4,#T_f99cdddc_c970_11eb_afe8_0242ac1c0002row5_col5,#T_f99cdddc_c970_11eb_afe8_0242ac1c0002row6_col6,#T_f99cdddc_c970_11eb_afe8_0242ac1c0002row7_col7,#T_f99cdddc_c970_11eb_afe8_0242ac1c0002row8_col8,#T_f99cdddc_c970_11eb_afe8_0242ac1c0002row9_col9,#T_f99cdddc_c970_11eb_afe8_0242ac1c0002row10_col10{\n",
              "            background-color:  #b40426;\n",
              "            color:  #f1f1f1;\n",
              "        }#T_f99cdddc_c970_11eb_afe8_0242ac1c0002row0_col1,#T_f99cdddc_c970_11eb_afe8_0242ac1c0002row3_col2{\n",
              "            background-color:  #9abbff;\n",
              "            color:  #000000;\n",
              "        }#T_f99cdddc_c970_11eb_afe8_0242ac1c0002row0_col2,#T_f99cdddc_c970_11eb_afe8_0242ac1c0002row10_col2{\n",
              "            background-color:  #94b6ff;\n",
              "            color:  #000000;\n",
              "        }#T_f99cdddc_c970_11eb_afe8_0242ac1c0002row0_col3{\n",
              "            background-color:  #e26952;\n",
              "            color:  #000000;\n",
              "        }#T_f99cdddc_c970_11eb_afe8_0242ac1c0002row0_col4,#T_f99cdddc_c970_11eb_afe8_0242ac1c0002row4_col0{\n",
              "            background-color:  #bcd2f7;\n",
              "            color:  #000000;\n",
              "        }#T_f99cdddc_c970_11eb_afe8_0242ac1c0002row0_col5,#T_f99cdddc_c970_11eb_afe8_0242ac1c0002row5_col0{\n",
              "            background-color:  #b7cff9;\n",
              "            color:  #000000;\n",
              "        }#T_f99cdddc_c970_11eb_afe8_0242ac1c0002row0_col6{\n",
              "            background-color:  #dcdddd;\n",
              "            color:  #000000;\n",
              "        }#T_f99cdddc_c970_11eb_afe8_0242ac1c0002row0_col7{\n",
              "            background-color:  #5470de;\n",
              "            color:  #000000;\n",
              "        }#T_f99cdddc_c970_11eb_afe8_0242ac1c0002row0_col8,#T_f99cdddc_c970_11eb_afe8_0242ac1c0002row1_col4,#T_f99cdddc_c970_11eb_afe8_0242ac1c0002row2_col8,#T_f99cdddc_c970_11eb_afe8_0242ac1c0002row3_col8,#T_f99cdddc_c970_11eb_afe8_0242ac1c0002row4_col8,#T_f99cdddc_c970_11eb_afe8_0242ac1c0002row5_col8,#T_f99cdddc_c970_11eb_afe8_0242ac1c0002row6_col8,#T_f99cdddc_c970_11eb_afe8_0242ac1c0002row7_col8{\n",
              "            background-color:  #3f53c6;\n",
              "            color:  #f1f1f1;\n",
              "        }#T_f99cdddc_c970_11eb_afe8_0242ac1c0002row0_col9,#T_f99cdddc_c970_11eb_afe8_0242ac1c0002row1_col2,#T_f99cdddc_c970_11eb_afe8_0242ac1c0002row1_col9,#T_f99cdddc_c970_11eb_afe8_0242ac1c0002row2_col1,#T_f99cdddc_c970_11eb_afe8_0242ac1c0002row2_col4,#T_f99cdddc_c970_11eb_afe8_0242ac1c0002row2_col7,#T_f99cdddc_c970_11eb_afe8_0242ac1c0002row3_col9,#T_f99cdddc_c970_11eb_afe8_0242ac1c0002row4_col9,#T_f99cdddc_c970_11eb_afe8_0242ac1c0002row5_col9,#T_f99cdddc_c970_11eb_afe8_0242ac1c0002row6_col9,#T_f99cdddc_c970_11eb_afe8_0242ac1c0002row8_col9,#T_f99cdddc_c970_11eb_afe8_0242ac1c0002row8_col10,#T_f99cdddc_c970_11eb_afe8_0242ac1c0002row10_col0,#T_f99cdddc_c970_11eb_afe8_0242ac1c0002row10_col3,#T_f99cdddc_c970_11eb_afe8_0242ac1c0002row10_col4,#T_f99cdddc_c970_11eb_afe8_0242ac1c0002row10_col5,#T_f99cdddc_c970_11eb_afe8_0242ac1c0002row10_col6,#T_f99cdddc_c970_11eb_afe8_0242ac1c0002row10_col8{\n",
              "            background-color:  #3b4cc0;\n",
              "            color:  #f1f1f1;\n",
              "        }#T_f99cdddc_c970_11eb_afe8_0242ac1c0002row0_col10,#T_f99cdddc_c970_11eb_afe8_0242ac1c0002row3_col10,#T_f99cdddc_c970_11eb_afe8_0242ac1c0002row4_col3,#T_f99cdddc_c970_11eb_afe8_0242ac1c0002row8_col0,#T_f99cdddc_c970_11eb_afe8_0242ac1c0002row8_col4,#T_f99cdddc_c970_11eb_afe8_0242ac1c0002row8_col5,#T_f99cdddc_c970_11eb_afe8_0242ac1c0002row8_col6,#T_f99cdddc_c970_11eb_afe8_0242ac1c0002row9_col0,#T_f99cdddc_c970_11eb_afe8_0242ac1c0002row9_col4,#T_f99cdddc_c970_11eb_afe8_0242ac1c0002row9_col5,#T_f99cdddc_c970_11eb_afe8_0242ac1c0002row9_col6{\n",
              "            background-color:  #3d50c3;\n",
              "            color:  #f1f1f1;\n",
              "        }#T_f99cdddc_c970_11eb_afe8_0242ac1c0002row1_col0{\n",
              "            background-color:  #4a63d3;\n",
              "            color:  #f1f1f1;\n",
              "        }#T_f99cdddc_c970_11eb_afe8_0242ac1c0002row1_col3,#T_f99cdddc_c970_11eb_afe8_0242ac1c0002row8_col7{\n",
              "            background-color:  #4f69d9;\n",
              "            color:  #000000;\n",
              "        }#T_f99cdddc_c970_11eb_afe8_0242ac1c0002row1_col5{\n",
              "            background-color:  #5f7fe8;\n",
              "            color:  #000000;\n",
              "        }#T_f99cdddc_c970_11eb_afe8_0242ac1c0002row1_col6{\n",
              "            background-color:  #5b7ae5;\n",
              "            color:  #000000;\n",
              "        }#T_f99cdddc_c970_11eb_afe8_0242ac1c0002row1_col7{\n",
              "            background-color:  #88abfd;\n",
              "            color:  #000000;\n",
              "        }#T_f99cdddc_c970_11eb_afe8_0242ac1c0002row1_col8,#T_f99cdddc_c970_11eb_afe8_0242ac1c0002row3_col4,#T_f99cdddc_c970_11eb_afe8_0242ac1c0002row4_col10,#T_f99cdddc_c970_11eb_afe8_0242ac1c0002row7_col4,#T_f99cdddc_c970_11eb_afe8_0242ac1c0002row7_col9,#T_f99cdddc_c970_11eb_afe8_0242ac1c0002row9_col8{\n",
              "            background-color:  #3e51c5;\n",
              "            color:  #f1f1f1;\n",
              "        }#T_f99cdddc_c970_11eb_afe8_0242ac1c0002row1_col10,#T_f99cdddc_c970_11eb_afe8_0242ac1c0002row5_col4,#T_f99cdddc_c970_11eb_afe8_0242ac1c0002row7_col10,#T_f99cdddc_c970_11eb_afe8_0242ac1c0002row9_col10{\n",
              "            background-color:  #4055c8;\n",
              "            color:  #f1f1f1;\n",
              "        }#T_f99cdddc_c970_11eb_afe8_0242ac1c0002row2_col0,#T_f99cdddc_c970_11eb_afe8_0242ac1c0002row7_col0{\n",
              "            background-color:  #4358cb;\n",
              "            color:  #f1f1f1;\n",
              "        }#T_f99cdddc_c970_11eb_afe8_0242ac1c0002row2_col3,#T_f99cdddc_c970_11eb_afe8_0242ac1c0002row7_col6{\n",
              "            background-color:  #4961d2;\n",
              "            color:  #f1f1f1;\n",
              "        }#T_f99cdddc_c970_11eb_afe8_0242ac1c0002row2_col5,#T_f99cdddc_c970_11eb_afe8_0242ac1c0002row6_col7{\n",
              "            background-color:  #5a78e4;\n",
              "            color:  #000000;\n",
              "        }#T_f99cdddc_c970_11eb_afe8_0242ac1c0002row2_col6{\n",
              "            background-color:  #5875e1;\n",
              "            color:  #000000;\n",
              "        }#T_f99cdddc_c970_11eb_afe8_0242ac1c0002row2_col9,#T_f99cdddc_c970_11eb_afe8_0242ac1c0002row5_col10,#T_f99cdddc_c970_11eb_afe8_0242ac1c0002row6_col10,#T_f99cdddc_c970_11eb_afe8_0242ac1c0002row8_col3,#T_f99cdddc_c970_11eb_afe8_0242ac1c0002row9_col3,#T_f99cdddc_c970_11eb_afe8_0242ac1c0002row10_col9{\n",
              "            background-color:  #3c4ec2;\n",
              "            color:  #f1f1f1;\n",
              "        }#T_f99cdddc_c970_11eb_afe8_0242ac1c0002row2_col10{\n",
              "            background-color:  #455cce;\n",
              "            color:  #f1f1f1;\n",
              "        }#T_f99cdddc_c970_11eb_afe8_0242ac1c0002row3_col0{\n",
              "            background-color:  #e16751;\n",
              "            color:  #000000;\n",
              "        }#T_f99cdddc_c970_11eb_afe8_0242ac1c0002row3_col1{\n",
              "            background-color:  #9ebeff;\n",
              "            color:  #000000;\n",
              "        }#T_f99cdddc_c970_11eb_afe8_0242ac1c0002row3_col5,#T_f99cdddc_c970_11eb_afe8_0242ac1c0002row5_col3{\n",
              "            background-color:  #dfdbd9;\n",
              "            color:  #000000;\n",
              "        }#T_f99cdddc_c970_11eb_afe8_0242ac1c0002row3_col6,#T_f99cdddc_c970_11eb_afe8_0242ac1c0002row6_col3{\n",
              "            background-color:  #f4c6af;\n",
              "            color:  #000000;\n",
              "        }#T_f99cdddc_c970_11eb_afe8_0242ac1c0002row3_col7{\n",
              "            background-color:  #5572df;\n",
              "            color:  #000000;\n",
              "        }#T_f99cdddc_c970_11eb_afe8_0242ac1c0002row4_col1,#T_f99cdddc_c970_11eb_afe8_0242ac1c0002row10_col1{\n",
              "            background-color:  #90b2fe;\n",
              "            color:  #000000;\n",
              "        }#T_f99cdddc_c970_11eb_afe8_0242ac1c0002row4_col2{\n",
              "            background-color:  #8caffe;\n",
              "            color:  #000000;\n",
              "        }#T_f99cdddc_c970_11eb_afe8_0242ac1c0002row4_col5{\n",
              "            background-color:  #4257c9;\n",
              "            color:  #f1f1f1;\n",
              "        }#T_f99cdddc_c970_11eb_afe8_0242ac1c0002row4_col6,#T_f99cdddc_c970_11eb_afe8_0242ac1c0002row7_col5{\n",
              "            background-color:  #485fd1;\n",
              "            color:  #f1f1f1;\n",
              "        }#T_f99cdddc_c970_11eb_afe8_0242ac1c0002row4_col7,#T_f99cdddc_c970_11eb_afe8_0242ac1c0002row10_col7{\n",
              "            background-color:  #506bda;\n",
              "            color:  #000000;\n",
              "        }#T_f99cdddc_c970_11eb_afe8_0242ac1c0002row5_col1{\n",
              "            background-color:  #aac7fd;\n",
              "            color:  #000000;\n",
              "        }#T_f99cdddc_c970_11eb_afe8_0242ac1c0002row5_col2,#T_f99cdddc_c970_11eb_afe8_0242ac1c0002row6_col1{\n",
              "            background-color:  #a7c5fe;\n",
              "            color:  #000000;\n",
              "        }#T_f99cdddc_c970_11eb_afe8_0242ac1c0002row5_col6{\n",
              "            background-color:  #f29072;\n",
              "            color:  #000000;\n",
              "        }#T_f99cdddc_c970_11eb_afe8_0242ac1c0002row5_col7{\n",
              "            background-color:  #5977e3;\n",
              "            color:  #000000;\n",
              "        }#T_f99cdddc_c970_11eb_afe8_0242ac1c0002row6_col0{\n",
              "            background-color:  #dbdcde;\n",
              "            color:  #000000;\n",
              "        }#T_f99cdddc_c970_11eb_afe8_0242ac1c0002row6_col2{\n",
              "            background-color:  #a5c3fe;\n",
              "            color:  #000000;\n",
              "        }#T_f99cdddc_c970_11eb_afe8_0242ac1c0002row6_col4{\n",
              "            background-color:  #465ecf;\n",
              "            color:  #f1f1f1;\n",
              "        }#T_f99cdddc_c970_11eb_afe8_0242ac1c0002row6_col5{\n",
              "            background-color:  #f18f71;\n",
              "            color:  #000000;\n",
              "        }#T_f99cdddc_c970_11eb_afe8_0242ac1c0002row7_col1{\n",
              "            background-color:  #bed2f6;\n",
              "            color:  #000000;\n",
              "        }#T_f99cdddc_c970_11eb_afe8_0242ac1c0002row7_col2{\n",
              "            background-color:  #7b9ff9;\n",
              "            color:  #000000;\n",
              "        }#T_f99cdddc_c970_11eb_afe8_0242ac1c0002row7_col3{\n",
              "            background-color:  #445acc;\n",
              "            color:  #f1f1f1;\n",
              "        }#T_f99cdddc_c970_11eb_afe8_0242ac1c0002row8_col1{\n",
              "            background-color:  #8db0fe;\n",
              "            color:  #000000;\n",
              "        }#T_f99cdddc_c970_11eb_afe8_0242ac1c0002row8_col2,#T_f99cdddc_c970_11eb_afe8_0242ac1c0002row9_col1,#T_f99cdddc_c970_11eb_afe8_0242ac1c0002row9_col2{\n",
              "            background-color:  #8fb1fe;\n",
              "            color:  #000000;\n",
              "        }#T_f99cdddc_c970_11eb_afe8_0242ac1c0002row9_col7{\n",
              "            background-color:  #536edd;\n",
              "            color:  #000000;\n",
              "        }</style><table id=\"T_f99cdddc_c970_11eb_afe8_0242ac1c0002\" ><thead>    <tr>        <th class=\"blank level0\" ></th>        <th class=\"col_heading level0 col0\" >ID_PDV</th>        <th class=\"col_heading level0 col1\" >ID_ARTC</th>        <th class=\"col_heading level0 col2\" >QTE</th>        <th class=\"col_heading level0 col3\" >ID_VOCT</th>        <th class=\"col_heading level0 col4\" >ID_REGN</th>        <th class=\"col_heading level0 col5\" >NB_CAIS_GRP</th>        <th class=\"col_heading level0 col6\" >SURF_GRP</th>        <th class=\"col_heading level0 col7\" >prix</th>        <th class=\"col_heading level0 col8\" >day</th>        <th class=\"col_heading level0 col9\" >month</th>        <th class=\"col_heading level0 col10\" >weekday</th>    </tr></thead><tbody>\n",
              "                <tr>\n",
              "                        <th id=\"T_f99cdddc_c970_11eb_afe8_0242ac1c0002level0_row0\" class=\"row_heading level0 row0\" >ID_PDV</th>\n",
              "                        <td id=\"T_f99cdddc_c970_11eb_afe8_0242ac1c0002row0_col0\" class=\"data row0 col0\" >1.000000</td>\n",
              "                        <td id=\"T_f99cdddc_c970_11eb_afe8_0242ac1c0002row0_col1\" class=\"data row0 col1\" >0.045479</td>\n",
              "                        <td id=\"T_f99cdddc_c970_11eb_afe8_0242ac1c0002row0_col2\" class=\"data row0 col2\" >0.022913</td>\n",
              "                        <td id=\"T_f99cdddc_c970_11eb_afe8_0242ac1c0002row0_col3\" class=\"data row0 col3\" >0.858281</td>\n",
              "                        <td id=\"T_f99cdddc_c970_11eb_afe8_0242ac1c0002row0_col4\" class=\"data row0 col4\" >0.382153</td>\n",
              "                        <td id=\"T_f99cdddc_c970_11eb_afe8_0242ac1c0002row0_col5\" class=\"data row0 col5\" >0.367652</td>\n",
              "                        <td id=\"T_f99cdddc_c970_11eb_afe8_0242ac1c0002row0_col6\" class=\"data row0 col6\" >0.491843</td>\n",
              "                        <td id=\"T_f99cdddc_c970_11eb_afe8_0242ac1c0002row0_col7\" class=\"data row0 col7\" >0.020883</td>\n",
              "                        <td id=\"T_f99cdddc_c970_11eb_afe8_0242ac1c0002row0_col8\" class=\"data row0 col8\" >0.000617</td>\n",
              "                        <td id=\"T_f99cdddc_c970_11eb_afe8_0242ac1c0002row0_col9\" class=\"data row0 col9\" >0.000126</td>\n",
              "                        <td id=\"T_f99cdddc_c970_11eb_afe8_0242ac1c0002row0_col10\" class=\"data row0 col10\" >-0.008214</td>\n",
              "            </tr>\n",
              "            <tr>\n",
              "                        <th id=\"T_f99cdddc_c970_11eb_afe8_0242ac1c0002level0_row1\" class=\"row_heading level0 row1\" >ID_ARTC</th>\n",
              "                        <td id=\"T_f99cdddc_c970_11eb_afe8_0242ac1c0002row1_col0\" class=\"data row1 col0\" >0.045479</td>\n",
              "                        <td id=\"T_f99cdddc_c970_11eb_afe8_0242ac1c0002row1_col1\" class=\"data row1 col1\" >1.000000</td>\n",
              "                        <td id=\"T_f99cdddc_c970_11eb_afe8_0242ac1c0002row1_col2\" class=\"data row1 col2\" >-0.342120</td>\n",
              "                        <td id=\"T_f99cdddc_c970_11eb_afe8_0242ac1c0002row1_col3\" class=\"data row1 col3\" >0.061137</td>\n",
              "                        <td id=\"T_f99cdddc_c970_11eb_afe8_0242ac1c0002row1_col4\" class=\"data row1 col4\" >0.008978</td>\n",
              "                        <td id=\"T_f99cdddc_c970_11eb_afe8_0242ac1c0002row1_col5\" class=\"data row1 col5\" >0.107247</td>\n",
              "                        <td id=\"T_f99cdddc_c970_11eb_afe8_0242ac1c0002row1_col6\" class=\"data row1 col6\" >0.097954</td>\n",
              "                        <td id=\"T_f99cdddc_c970_11eb_afe8_0242ac1c0002row1_col7\" class=\"data row1 col7\" >0.184118</td>\n",
              "                        <td id=\"T_f99cdddc_c970_11eb_afe8_0242ac1c0002row1_col8\" class=\"data row1 col8\" >-0.002603</td>\n",
              "                        <td id=\"T_f99cdddc_c970_11eb_afe8_0242ac1c0002row1_col9\" class=\"data row1 col9\" >0.000570</td>\n",
              "                        <td id=\"T_f99cdddc_c970_11eb_afe8_0242ac1c0002row1_col10\" class=\"data row1 col10\" >0.006075</td>\n",
              "            </tr>\n",
              "            <tr>\n",
              "                        <th id=\"T_f99cdddc_c970_11eb_afe8_0242ac1c0002level0_row2\" class=\"row_heading level0 row2\" >QTE</th>\n",
              "                        <td id=\"T_f99cdddc_c970_11eb_afe8_0242ac1c0002row2_col0\" class=\"data row2 col0\" >0.022913</td>\n",
              "                        <td id=\"T_f99cdddc_c970_11eb_afe8_0242ac1c0002row2_col1\" class=\"data row2 col1\" >-0.342120</td>\n",
              "                        <td id=\"T_f99cdddc_c970_11eb_afe8_0242ac1c0002row2_col2\" class=\"data row2 col2\" >1.000000</td>\n",
              "                        <td id=\"T_f99cdddc_c970_11eb_afe8_0242ac1c0002row2_col3\" class=\"data row2 col3\" >0.042252</td>\n",
              "                        <td id=\"T_f99cdddc_c970_11eb_afe8_0242ac1c0002row2_col4\" class=\"data row2 col4\" >-0.007976</td>\n",
              "                        <td id=\"T_f99cdddc_c970_11eb_afe8_0242ac1c0002row2_col5\" class=\"data row2 col5\" >0.094806</td>\n",
              "                        <td id=\"T_f99cdddc_c970_11eb_afe8_0242ac1c0002row2_col6\" class=\"data row2 col6\" >0.085501</td>\n",
              "                        <td id=\"T_f99cdddc_c970_11eb_afe8_0242ac1c0002row2_col7\" class=\"data row2 col7\" >-0.070923</td>\n",
              "                        <td id=\"T_f99cdddc_c970_11eb_afe8_0242ac1c0002row2_col8\" class=\"data row2 col8\" >0.001584</td>\n",
              "                        <td id=\"T_f99cdddc_c970_11eb_afe8_0242ac1c0002row2_col9\" class=\"data row2 col9\" >0.003805</td>\n",
              "                        <td id=\"T_f99cdddc_c970_11eb_afe8_0242ac1c0002row2_col10\" class=\"data row2 col10\" >0.019837</td>\n",
              "            </tr>\n",
              "            <tr>\n",
              "                        <th id=\"T_f99cdddc_c970_11eb_afe8_0242ac1c0002level0_row3\" class=\"row_heading level0 row3\" >ID_VOCT</th>\n",
              "                        <td id=\"T_f99cdddc_c970_11eb_afe8_0242ac1c0002row3_col0\" class=\"data row3 col0\" >0.858281</td>\n",
              "                        <td id=\"T_f99cdddc_c970_11eb_afe8_0242ac1c0002row3_col1\" class=\"data row3 col1\" >0.061137</td>\n",
              "                        <td id=\"T_f99cdddc_c970_11eb_afe8_0242ac1c0002row3_col2\" class=\"data row3 col2\" >0.042252</td>\n",
              "                        <td id=\"T_f99cdddc_c970_11eb_afe8_0242ac1c0002row3_col3\" class=\"data row3 col3\" >1.000000</td>\n",
              "                        <td id=\"T_f99cdddc_c970_11eb_afe8_0242ac1c0002row3_col4\" class=\"data row3 col4\" >0.004408</td>\n",
              "                        <td id=\"T_f99cdddc_c970_11eb_afe8_0242ac1c0002row3_col5\" class=\"data row3 col5\" >0.505201</td>\n",
              "                        <td id=\"T_f99cdddc_c970_11eb_afe8_0242ac1c0002row3_col6\" class=\"data row3 col6\" >0.614911</td>\n",
              "                        <td id=\"T_f99cdddc_c970_11eb_afe8_0242ac1c0002row3_col7\" class=\"data row3 col7\" >0.025163</td>\n",
              "                        <td id=\"T_f99cdddc_c970_11eb_afe8_0242ac1c0002row3_col8\" class=\"data row3 col8\" >0.000311</td>\n",
              "                        <td id=\"T_f99cdddc_c970_11eb_afe8_0242ac1c0002row3_col9\" class=\"data row3 col9\" >-0.000142</td>\n",
              "                        <td id=\"T_f99cdddc_c970_11eb_afe8_0242ac1c0002row3_col10\" class=\"data row3 col10\" >-0.007134</td>\n",
              "            </tr>\n",
              "            <tr>\n",
              "                        <th id=\"T_f99cdddc_c970_11eb_afe8_0242ac1c0002level0_row4\" class=\"row_heading level0 row4\" >ID_REGN</th>\n",
              "                        <td id=\"T_f99cdddc_c970_11eb_afe8_0242ac1c0002row4_col0\" class=\"data row4 col0\" >0.382153</td>\n",
              "                        <td id=\"T_f99cdddc_c970_11eb_afe8_0242ac1c0002row4_col1\" class=\"data row4 col1\" >0.008978</td>\n",
              "                        <td id=\"T_f99cdddc_c970_11eb_afe8_0242ac1c0002row4_col2\" class=\"data row4 col2\" >-0.007976</td>\n",
              "                        <td id=\"T_f99cdddc_c970_11eb_afe8_0242ac1c0002row4_col3\" class=\"data row4 col3\" >0.004408</td>\n",
              "                        <td id=\"T_f99cdddc_c970_11eb_afe8_0242ac1c0002row4_col4\" class=\"data row4 col4\" >1.000000</td>\n",
              "                        <td id=\"T_f99cdddc_c970_11eb_afe8_0242ac1c0002row4_col5\" class=\"data row4 col5\" >0.012910</td>\n",
              "                        <td id=\"T_f99cdddc_c970_11eb_afe8_0242ac1c0002row4_col6\" class=\"data row4 col6\" >0.034467</td>\n",
              "                        <td id=\"T_f99cdddc_c970_11eb_afe8_0242ac1c0002row4_col7\" class=\"data row4 col7\" >0.005366</td>\n",
              "                        <td id=\"T_f99cdddc_c970_11eb_afe8_0242ac1c0002row4_col8\" class=\"data row4 col8\" >-0.000021</td>\n",
              "                        <td id=\"T_f99cdddc_c970_11eb_afe8_0242ac1c0002row4_col9\" class=\"data row4 col9\" >0.001103</td>\n",
              "                        <td id=\"T_f99cdddc_c970_11eb_afe8_0242ac1c0002row4_col10\" class=\"data row4 col10\" >-0.004571</td>\n",
              "            </tr>\n",
              "            <tr>\n",
              "                        <th id=\"T_f99cdddc_c970_11eb_afe8_0242ac1c0002level0_row5\" class=\"row_heading level0 row5\" >NB_CAIS_GRP</th>\n",
              "                        <td id=\"T_f99cdddc_c970_11eb_afe8_0242ac1c0002row5_col0\" class=\"data row5 col0\" >0.367652</td>\n",
              "                        <td id=\"T_f99cdddc_c970_11eb_afe8_0242ac1c0002row5_col1\" class=\"data row5 col1\" >0.107247</td>\n",
              "                        <td id=\"T_f99cdddc_c970_11eb_afe8_0242ac1c0002row5_col2\" class=\"data row5 col2\" >0.094806</td>\n",
              "                        <td id=\"T_f99cdddc_c970_11eb_afe8_0242ac1c0002row5_col3\" class=\"data row5 col3\" >0.505201</td>\n",
              "                        <td id=\"T_f99cdddc_c970_11eb_afe8_0242ac1c0002row5_col4\" class=\"data row5 col4\" >0.012910</td>\n",
              "                        <td id=\"T_f99cdddc_c970_11eb_afe8_0242ac1c0002row5_col5\" class=\"data row5 col5\" >1.000000</td>\n",
              "                        <td id=\"T_f99cdddc_c970_11eb_afe8_0242ac1c0002row5_col6\" class=\"data row5 col6\" >0.770855</td>\n",
              "                        <td id=\"T_f99cdddc_c970_11eb_afe8_0242ac1c0002row5_col7\" class=\"data row5 col7\" >0.034217</td>\n",
              "                        <td id=\"T_f99cdddc_c970_11eb_afe8_0242ac1c0002row5_col8\" class=\"data row5 col8\" >-0.000291</td>\n",
              "                        <td id=\"T_f99cdddc_c970_11eb_afe8_0242ac1c0002row5_col9\" class=\"data row5 col9\" >-0.000902</td>\n",
              "                        <td id=\"T_f99cdddc_c970_11eb_afe8_0242ac1c0002row5_col10\" class=\"data row5 col10\" >-0.011753</td>\n",
              "            </tr>\n",
              "            <tr>\n",
              "                        <th id=\"T_f99cdddc_c970_11eb_afe8_0242ac1c0002level0_row6\" class=\"row_heading level0 row6\" >SURF_GRP</th>\n",
              "                        <td id=\"T_f99cdddc_c970_11eb_afe8_0242ac1c0002row6_col0\" class=\"data row6 col0\" >0.491843</td>\n",
              "                        <td id=\"T_f99cdddc_c970_11eb_afe8_0242ac1c0002row6_col1\" class=\"data row6 col1\" >0.097954</td>\n",
              "                        <td id=\"T_f99cdddc_c970_11eb_afe8_0242ac1c0002row6_col2\" class=\"data row6 col2\" >0.085501</td>\n",
              "                        <td id=\"T_f99cdddc_c970_11eb_afe8_0242ac1c0002row6_col3\" class=\"data row6 col3\" >0.614911</td>\n",
              "                        <td id=\"T_f99cdddc_c970_11eb_afe8_0242ac1c0002row6_col4\" class=\"data row6 col4\" >0.034467</td>\n",
              "                        <td id=\"T_f99cdddc_c970_11eb_afe8_0242ac1c0002row6_col5\" class=\"data row6 col5\" >0.770855</td>\n",
              "                        <td id=\"T_f99cdddc_c970_11eb_afe8_0242ac1c0002row6_col6\" class=\"data row6 col6\" >1.000000</td>\n",
              "                        <td id=\"T_f99cdddc_c970_11eb_afe8_0242ac1c0002row6_col7\" class=\"data row6 col7\" >0.038430</td>\n",
              "                        <td id=\"T_f99cdddc_c970_11eb_afe8_0242ac1c0002row6_col8\" class=\"data row6 col8\" >0.000071</td>\n",
              "                        <td id=\"T_f99cdddc_c970_11eb_afe8_0242ac1c0002row6_col9\" class=\"data row6 col9\" >0.000253</td>\n",
              "                        <td id=\"T_f99cdddc_c970_11eb_afe8_0242ac1c0002row6_col10\" class=\"data row6 col10\" >-0.009919</td>\n",
              "            </tr>\n",
              "            <tr>\n",
              "                        <th id=\"T_f99cdddc_c970_11eb_afe8_0242ac1c0002level0_row7\" class=\"row_heading level0 row7\" >prix</th>\n",
              "                        <td id=\"T_f99cdddc_c970_11eb_afe8_0242ac1c0002row7_col0\" class=\"data row7 col0\" >0.020883</td>\n",
              "                        <td id=\"T_f99cdddc_c970_11eb_afe8_0242ac1c0002row7_col1\" class=\"data row7 col1\" >0.184118</td>\n",
              "                        <td id=\"T_f99cdddc_c970_11eb_afe8_0242ac1c0002row7_col2\" class=\"data row7 col2\" >-0.070923</td>\n",
              "                        <td id=\"T_f99cdddc_c970_11eb_afe8_0242ac1c0002row7_col3\" class=\"data row7 col3\" >0.025163</td>\n",
              "                        <td id=\"T_f99cdddc_c970_11eb_afe8_0242ac1c0002row7_col4\" class=\"data row7 col4\" >0.005366</td>\n",
              "                        <td id=\"T_f99cdddc_c970_11eb_afe8_0242ac1c0002row7_col5\" class=\"data row7 col5\" >0.034217</td>\n",
              "                        <td id=\"T_f99cdddc_c970_11eb_afe8_0242ac1c0002row7_col6\" class=\"data row7 col6\" >0.038430</td>\n",
              "                        <td id=\"T_f99cdddc_c970_11eb_afe8_0242ac1c0002row7_col7\" class=\"data row7 col7\" >1.000000</td>\n",
              "                        <td id=\"T_f99cdddc_c970_11eb_afe8_0242ac1c0002row7_col8\" class=\"data row7 col8\" >0.000856</td>\n",
              "                        <td id=\"T_f99cdddc_c970_11eb_afe8_0242ac1c0002row7_col9\" class=\"data row7 col9\" >0.013405</td>\n",
              "                        <td id=\"T_f99cdddc_c970_11eb_afe8_0242ac1c0002row7_col10\" class=\"data row7 col10\" >0.006177</td>\n",
              "            </tr>\n",
              "            <tr>\n",
              "                        <th id=\"T_f99cdddc_c970_11eb_afe8_0242ac1c0002level0_row8\" class=\"row_heading level0 row8\" >day</th>\n",
              "                        <td id=\"T_f99cdddc_c970_11eb_afe8_0242ac1c0002row8_col0\" class=\"data row8 col0\" >0.000617</td>\n",
              "                        <td id=\"T_f99cdddc_c970_11eb_afe8_0242ac1c0002row8_col1\" class=\"data row8 col1\" >-0.002603</td>\n",
              "                        <td id=\"T_f99cdddc_c970_11eb_afe8_0242ac1c0002row8_col2\" class=\"data row8 col2\" >0.001584</td>\n",
              "                        <td id=\"T_f99cdddc_c970_11eb_afe8_0242ac1c0002row8_col3\" class=\"data row8 col3\" >0.000311</td>\n",
              "                        <td id=\"T_f99cdddc_c970_11eb_afe8_0242ac1c0002row8_col4\" class=\"data row8 col4\" >-0.000021</td>\n",
              "                        <td id=\"T_f99cdddc_c970_11eb_afe8_0242ac1c0002row8_col5\" class=\"data row8 col5\" >-0.000291</td>\n",
              "                        <td id=\"T_f99cdddc_c970_11eb_afe8_0242ac1c0002row8_col6\" class=\"data row8 col6\" >0.000071</td>\n",
              "                        <td id=\"T_f99cdddc_c970_11eb_afe8_0242ac1c0002row8_col7\" class=\"data row8 col7\" >0.000856</td>\n",
              "                        <td id=\"T_f99cdddc_c970_11eb_afe8_0242ac1c0002row8_col8\" class=\"data row8 col8\" >1.000000</td>\n",
              "                        <td id=\"T_f99cdddc_c970_11eb_afe8_0242ac1c0002row8_col9\" class=\"data row8 col9\" >-0.001799</td>\n",
              "                        <td id=\"T_f99cdddc_c970_11eb_afe8_0242ac1c0002row8_col10\" class=\"data row8 col10\" >-0.017591</td>\n",
              "            </tr>\n",
              "            <tr>\n",
              "                        <th id=\"T_f99cdddc_c970_11eb_afe8_0242ac1c0002level0_row9\" class=\"row_heading level0 row9\" >month</th>\n",
              "                        <td id=\"T_f99cdddc_c970_11eb_afe8_0242ac1c0002row9_col0\" class=\"data row9 col0\" >0.000126</td>\n",
              "                        <td id=\"T_f99cdddc_c970_11eb_afe8_0242ac1c0002row9_col1\" class=\"data row9 col1\" >0.000570</td>\n",
              "                        <td id=\"T_f99cdddc_c970_11eb_afe8_0242ac1c0002row9_col2\" class=\"data row9 col2\" >0.003805</td>\n",
              "                        <td id=\"T_f99cdddc_c970_11eb_afe8_0242ac1c0002row9_col3\" class=\"data row9 col3\" >-0.000142</td>\n",
              "                        <td id=\"T_f99cdddc_c970_11eb_afe8_0242ac1c0002row9_col4\" class=\"data row9 col4\" >0.001103</td>\n",
              "                        <td id=\"T_f99cdddc_c970_11eb_afe8_0242ac1c0002row9_col5\" class=\"data row9 col5\" >-0.000902</td>\n",
              "                        <td id=\"T_f99cdddc_c970_11eb_afe8_0242ac1c0002row9_col6\" class=\"data row9 col6\" >0.000253</td>\n",
              "                        <td id=\"T_f99cdddc_c970_11eb_afe8_0242ac1c0002row9_col7\" class=\"data row9 col7\" >0.013405</td>\n",
              "                        <td id=\"T_f99cdddc_c970_11eb_afe8_0242ac1c0002row9_col8\" class=\"data row9 col8\" >-0.001799</td>\n",
              "                        <td id=\"T_f99cdddc_c970_11eb_afe8_0242ac1c0002row9_col9\" class=\"data row9 col9\" >1.000000</td>\n",
              "                        <td id=\"T_f99cdddc_c970_11eb_afe8_0242ac1c0002row9_col10\" class=\"data row9 col10\" >0.003387</td>\n",
              "            </tr>\n",
              "            <tr>\n",
              "                        <th id=\"T_f99cdddc_c970_11eb_afe8_0242ac1c0002level0_row10\" class=\"row_heading level0 row10\" >weekday</th>\n",
              "                        <td id=\"T_f99cdddc_c970_11eb_afe8_0242ac1c0002row10_col0\" class=\"data row10 col0\" >-0.008214</td>\n",
              "                        <td id=\"T_f99cdddc_c970_11eb_afe8_0242ac1c0002row10_col1\" class=\"data row10 col1\" >0.006075</td>\n",
              "                        <td id=\"T_f99cdddc_c970_11eb_afe8_0242ac1c0002row10_col2\" class=\"data row10 col2\" >0.019837</td>\n",
              "                        <td id=\"T_f99cdddc_c970_11eb_afe8_0242ac1c0002row10_col3\" class=\"data row10 col3\" >-0.007134</td>\n",
              "                        <td id=\"T_f99cdddc_c970_11eb_afe8_0242ac1c0002row10_col4\" class=\"data row10 col4\" >-0.004571</td>\n",
              "                        <td id=\"T_f99cdddc_c970_11eb_afe8_0242ac1c0002row10_col5\" class=\"data row10 col5\" >-0.011753</td>\n",
              "                        <td id=\"T_f99cdddc_c970_11eb_afe8_0242ac1c0002row10_col6\" class=\"data row10 col6\" >-0.009919</td>\n",
              "                        <td id=\"T_f99cdddc_c970_11eb_afe8_0242ac1c0002row10_col7\" class=\"data row10 col7\" >0.006177</td>\n",
              "                        <td id=\"T_f99cdddc_c970_11eb_afe8_0242ac1c0002row10_col8\" class=\"data row10 col8\" >-0.017591</td>\n",
              "                        <td id=\"T_f99cdddc_c970_11eb_afe8_0242ac1c0002row10_col9\" class=\"data row10 col9\" >0.003387</td>\n",
              "                        <td id=\"T_f99cdddc_c970_11eb_afe8_0242ac1c0002row10_col10\" class=\"data row10 col10\" >1.000000</td>\n",
              "            </tr>\n",
              "    </tbody></table>"
            ],
            "text/plain": [
              "<pandas.io.formats.style.Styler at 0x7f2f603c3510>"
            ]
          },
          "metadata": {
            "tags": []
          },
          "execution_count": 38
        }
      ]
    },
    {
      "cell_type": "code",
      "metadata": {
        "id": "aXfS5qx63v4y"
      },
      "source": [
        "# ID_VOCT est corr plus ID_PDV  et un moins avec SURF_GR\n",
        "# SURF_GRP est corr plus avec NB_CAIS_GRP et moins avec ID_VOCT"
      ],
      "execution_count": null,
      "outputs": []
    },
    {
      "cell_type": "markdown",
      "metadata": {
        "id": "RveCcfAXOT6S"
      },
      "source": [
        "Train Set \\ Test Set"
      ]
    },
    {
      "cell_type": "code",
      "metadata": {
        "id": "Fnfbpm6iqOoJ"
      },
      "source": [
        ""
      ],
      "execution_count": null,
      "outputs": []
    },
    {
      "cell_type": "code",
      "metadata": {
        "id": "jjlykaFNDKGr"
      },
      "source": [
        "from sklearn.model_selection import train_test_split\n"
      ],
      "execution_count": null,
      "outputs": []
    },
    {
      "cell_type": "code",
      "metadata": {
        "id": "fKLz8eKTxCEa"
      },
      "source": [
        "num = ['ID_PDV','ID_ARTC','ID_VOCT','ID_REGN','NB_CAIS_GRP','SURF_GRP','prix','day','month','weekday']\n",
        "tar = ['QTE']"
      ],
      "execution_count": null,
      "outputs": []
    },
    {
      "cell_type": "code",
      "metadata": {
        "colab": {
          "base_uri": "https://localhost:8080/"
        },
        "id": "_Ovh3DgF1OU8",
        "outputId": "040b325a-e7b5-41ea-f4b1-e3d6c833b859"
      },
      "source": [
        "num"
      ],
      "execution_count": null,
      "outputs": [
        {
          "output_type": "execute_result",
          "data": {
            "text/plain": [
              "['ID_PDV',\n",
              " 'ID_ARTC',\n",
              " 'ID_VOCT',\n",
              " 'ID_REGN',\n",
              " 'NB_CAIS_GRP',\n",
              " 'SURF_GRP',\n",
              " 'prix',\n",
              " 'day',\n",
              " 'month',\n",
              " 'weekday']"
            ]
          },
          "metadata": {
            "tags": []
          },
          "execution_count": 37
        }
      ]
    },
    {
      "cell_type": "code",
      "metadata": {
        "id": "6n4I8K_ODKI6",
        "colab": {
          "base_uri": "https://localhost:8080/",
          "height": 306
        },
        "outputId": "6fec5482-bbaa-4fe2-a745-712f53422a91"
      },
      "source": [
        "X_train,X_test, y_train, y_test = train_test_split( num, tar, test_size = 0.2, random_state = 50 )"
      ],
      "execution_count": null,
      "outputs": [
        {
          "output_type": "error",
          "ename": "ValueError",
          "evalue": "ignored",
          "traceback": [
            "\u001b[0;31m---------------------------------------------------------------------------\u001b[0m",
            "\u001b[0;31mValueError\u001b[0m                                Traceback (most recent call last)",
            "\u001b[0;32m<ipython-input-33-5ec021039662>\u001b[0m in \u001b[0;36m<module>\u001b[0;34m()\u001b[0m\n\u001b[0;32m----> 1\u001b[0;31m \u001b[0mX_train\u001b[0m\u001b[0;34m,\u001b[0m\u001b[0mX_test\u001b[0m\u001b[0;34m,\u001b[0m \u001b[0my_train\u001b[0m\u001b[0;34m,\u001b[0m \u001b[0my_test\u001b[0m \u001b[0;34m=\u001b[0m \u001b[0mtrain_test_split\u001b[0m\u001b[0;34m(\u001b[0m \u001b[0mnum\u001b[0m\u001b[0;34m,\u001b[0m \u001b[0mtar\u001b[0m\u001b[0;34m,\u001b[0m \u001b[0mtest_size\u001b[0m \u001b[0;34m=\u001b[0m \u001b[0;36m0.2\u001b[0m\u001b[0;34m,\u001b[0m \u001b[0mrandom_state\u001b[0m \u001b[0;34m=\u001b[0m \u001b[0;36m50\u001b[0m \u001b[0;34m)\u001b[0m\u001b[0;34m\u001b[0m\u001b[0;34m\u001b[0m\u001b[0m\n\u001b[0m",
            "\u001b[0;32m/usr/local/lib/python3.7/dist-packages/sklearn/model_selection/_split.py\u001b[0m in \u001b[0;36mtrain_test_split\u001b[0;34m(*arrays, **options)\u001b[0m\n\u001b[1;32m   2120\u001b[0m     \u001b[0mn_samples\u001b[0m \u001b[0;34m=\u001b[0m \u001b[0m_num_samples\u001b[0m\u001b[0;34m(\u001b[0m\u001b[0marrays\u001b[0m\u001b[0;34m[\u001b[0m\u001b[0;36m0\u001b[0m\u001b[0;34m]\u001b[0m\u001b[0;34m)\u001b[0m\u001b[0;34m\u001b[0m\u001b[0;34m\u001b[0m\u001b[0m\n\u001b[1;32m   2121\u001b[0m     n_train, n_test = _validate_shuffle_split(n_samples, test_size, train_size,\n\u001b[0;32m-> 2122\u001b[0;31m                                               default_test_size=0.25)\n\u001b[0m\u001b[1;32m   2123\u001b[0m \u001b[0;34m\u001b[0m\u001b[0m\n\u001b[1;32m   2124\u001b[0m     \u001b[0;32mif\u001b[0m \u001b[0mshuffle\u001b[0m \u001b[0;32mis\u001b[0m \u001b[0;32mFalse\u001b[0m\u001b[0;34m:\u001b[0m\u001b[0;34m\u001b[0m\u001b[0;34m\u001b[0m\u001b[0m\n",
            "\u001b[0;32m/usr/local/lib/python3.7/dist-packages/sklearn/model_selection/_split.py\u001b[0m in \u001b[0;36m_validate_shuffle_split\u001b[0;34m(n_samples, test_size, train_size, default_test_size)\u001b[0m\n\u001b[1;32m   1803\u001b[0m             \u001b[0;34m'resulting train set will be empty. Adjust any of the '\u001b[0m\u001b[0;34m\u001b[0m\u001b[0;34m\u001b[0m\u001b[0m\n\u001b[1;32m   1804\u001b[0m             'aforementioned parameters.'.format(n_samples, test_size,\n\u001b[0;32m-> 1805\u001b[0;31m                                                 train_size)\n\u001b[0m\u001b[1;32m   1806\u001b[0m         )\n\u001b[1;32m   1807\u001b[0m \u001b[0;34m\u001b[0m\u001b[0m\n",
            "\u001b[0;31mValueError\u001b[0m: With n_samples=1, test_size=0.2 and train_size=None, the resulting train set will be empty. Adjust any of the aforementioned parameters."
          ]
        }
      ]
    },
    {
      "cell_type": "code",
      "metadata": {
        "colab": {
          "base_uri": "https://localhost:8080/"
        },
        "id": "lFiLzAZwz0qg",
        "outputId": "dd46cfed-b26e-4c5b-fa50-fc6ff979d210"
      },
      "source": [
        "X_train.shape, X_test.shape, y_test.shape,y_train.shape"
      ],
      "execution_count": null,
      "outputs": [
        {
          "output_type": "execute_result",
          "data": {
            "text/plain": [
              "((26234414, 6), (6558604, 6), (6558604,), (26234414,))"
            ]
          },
          "metadata": {
            "tags": []
          },
          "execution_count": 145
        }
      ]
    },
    {
      "cell_type": "markdown",
      "metadata": {
        "id": "G9FK0DTbPwVT"
      },
      "source": [
        ""
      ]
    },
    {
      "cell_type": "markdown",
      "metadata": {
        "id": "GAXUCEr0P0au"
      },
      "source": [
        "## Model 1 Regresssion lineaire multiple"
      ]
    },
    {
      "cell_type": "code",
      "metadata": {
        "id": "FsGNt6lTtUJH"
      },
      "source": [
        "from sklearn import linear_model"
      ],
      "execution_count": null,
      "outputs": []
    },
    {
      "cell_type": "code",
      "metadata": {
        "colab": {
          "base_uri": "https://localhost:8080/"
        },
        "id": "Dh6W6lp3QHWV",
        "outputId": "3f30707f-27c5-456b-e9fd-c5b0994e7e97"
      },
      "source": [
        "regr = linear_model.LinearRegression()\n",
        "regr.fit(X_train, y_train)"
      ],
      "execution_count": null,
      "outputs": [
        {
          "output_type": "execute_result",
          "data": {
            "text/plain": [
              "LinearRegression(copy_X=True, fit_intercept=True, n_jobs=None, normalize=False)"
            ]
          },
          "metadata": {
            "tags": []
          },
          "execution_count": 146
        }
      ]
    },
    {
      "cell_type": "markdown",
      "metadata": {
        "id": "hAJhGQvmQWIT"
      },
      "source": [
        "## Evaluation avec la metrique RMSLE"
      ]
    },
    {
      "cell_type": "code",
      "metadata": {
        "id": "mNluvw7jvpcV"
      },
      "source": [
        ""
      ],
      "execution_count": null,
      "outputs": []
    },
    {
      "cell_type": "code",
      "metadata": {
        "id": "TC37L69nafu1"
      },
      "source": [
        "from sklearn.metrics import mean_squared_log_error"
      ],
      "execution_count": null,
      "outputs": []
    },
    {
      "cell_type": "code",
      "metadata": {
        "colab": {
          "base_uri": "https://localhost:8080/"
        },
        "id": "iaYnxKO8t7pD",
        "outputId": "4772af1e-d8ed-49f6-d2fb-9f3fb57e6855"
      },
      "source": [
        "Y_pred = regr.predict(X_test)\n",
        "Y_pred.shape"
      ],
      "execution_count": null,
      "outputs": [
        {
          "output_type": "execute_result",
          "data": {
            "text/plain": [
              "(6558604,)"
            ]
          },
          "metadata": {
            "tags": []
          },
          "execution_count": 141
        }
      ]
    },
    {
      "cell_type": "code",
      "metadata": {
        "colab": {
          "base_uri": "https://localhost:8080/"
        },
        "id": "MTTA8kQQtkar",
        "outputId": "fb77020d-e07e-41ff-8d9f-27ca1a43daa5"
      },
      "source": [
        "np.sqrt(mean_squared_log_error(y_test, Y_pred)) "
      ],
      "execution_count": null,
      "outputs": [
        {
          "output_type": "execute_result",
          "data": {
            "text/plain": [
              "1.0852368529046342e-14"
            ]
          },
          "metadata": {
            "tags": []
          },
          "execution_count": 142
        }
      ]
    },
    {
      "cell_type": "code",
      "metadata": {
        "colab": {
          "base_uri": "https://localhost:8080/"
        },
        "id": "U29AAOdQtkdO",
        "outputId": "91715bc0-b207-45a5-e5b6-27c0b17791ac"
      },
      "source": [
        "np.sqrt(mean_squared_log_error(y_test, Y_pred))"
      ],
      "execution_count": null,
      "outputs": [
        {
          "output_type": "execute_result",
          "data": {
            "text/plain": [
              "1.0852368529046342e-14"
            ]
          },
          "metadata": {
            "tags": []
          },
          "execution_count": 143
        }
      ]
    },
    {
      "cell_type": "code",
      "metadata": {
        "id": "oXiy0FodtkfN"
      },
      "source": [
        "from sklearn.model_selection import cross_val_score"
      ],
      "execution_count": null,
      "outputs": []
    },
    {
      "cell_type": "code",
      "metadata": {
        "colab": {
          "base_uri": "https://localhost:8080/"
        },
        "id": "0V7gCWSY4Y-z",
        "outputId": "92812a29-27be-44fa-b069-6762e1e92c64"
      },
      "source": [
        "cross_val_score(linear_model.LinearRegression(),X_train,y_train, cv =5)"
      ],
      "execution_count": null,
      "outputs": [
        {
          "output_type": "execute_result",
          "data": {
            "text/plain": [
              "array([1., 1., 1., 1., 1.])"
            ]
          },
          "metadata": {
            "tags": []
          },
          "execution_count": 131
        }
      ]
    },
    {
      "cell_type": "code",
      "metadata": {
        "colab": {
          "base_uri": "https://localhost:8080/"
        },
        "id": "cIIssnJyTmiP",
        "outputId": "64cd0939-087c-486b-afdc-887da35c0215"
      },
      "source": [
        "gc.collect() #nettoie la ram"
      ],
      "execution_count": null,
      "outputs": [
        {
          "output_type": "execute_result",
          "data": {
            "text/plain": [
              "88"
            ]
          },
          "metadata": {
            "tags": []
          },
          "execution_count": 140
        }
      ]
    },
    {
      "cell_type": "markdown",
      "metadata": {
        "id": "6IlP65veTuVz"
      },
      "source": [
        "##  Table CSV pour la soumission"
      ]
    },
    {
      "cell_type": "code",
      "metadata": {
        "id": "vVI8EOr84ZBh"
      },
      "source": [
        "def recD(x):\n",
        "  l = x.split('-')\n",
        "  return l[0] + l[1]+ l[2]\n",
        "   \n",
        "def IdSubmision(df_2019):\n",
        "  recALL = lambda x: '{}_{}_{}'.format(x.ID_PDV,x.ID_ARTC,recD(x.DATE))\n",
        "\n",
        "  return df_2019.apply(recALL, axis=1)\n"
      ],
      "execution_count": null,
      "outputs": []
    },
    {
      "cell_type": "code",
      "metadata": {
        "colab": {
          "base_uri": "https://localhost:8080/"
        },
        "id": "grBQwTV4R_T1",
        "outputId": "6ed7d45e-faae-49c9-e9e4-fe4532056606"
      },
      "source": [
        ""
      ],
      "execution_count": null,
      "outputs": [
        {
          "output_type": "execute_result",
          "data": {
            "text/plain": [
              "88"
            ]
          },
          "metadata": {
            "tags": []
          },
          "execution_count": 136
        }
      ]
    },
    {
      "cell_type": "code",
      "metadata": {
        "id": "foZItBIfR_Ws"
      },
      "source": [
        ""
      ],
      "execution_count": null,
      "outputs": []
    },
    {
      "cell_type": "code",
      "metadata": {
        "id": "saHltRUZR_eT"
      },
      "source": [
        ""
      ],
      "execution_count": null,
      "outputs": []
    },
    {
      "cell_type": "code",
      "metadata": {
        "id": "z_S2fbwoR_gl"
      },
      "source": [
        ""
      ],
      "execution_count": null,
      "outputs": []
    },
    {
      "cell_type": "code",
      "metadata": {
        "id": "Tp_rI_sgR_jA"
      },
      "source": [
        ""
      ],
      "execution_count": null,
      "outputs": []
    },
    {
      "cell_type": "code",
      "metadata": {
        "id": "U-yZlbXmo_fW"
      },
      "source": [
        "l = np.concatenate((np.unique(nm[nm['LB_VENT_RAYN']=='FRUITS ET LEGUMES']['ID_ARTC']), np.unique(nm[nm['LB_VENT_RAYN']=='CREMERIE LS']['ID_ARTC'])))\n",
        "df_clean = V_18[-V_18['ID_ARTC'].isin(l)]\n",
        "df_clean = df_clean[-df_clean['QTE'].isin([0])]"
      ],
      "execution_count": null,
      "outputs": []
    },
    {
      "cell_type": "code",
      "metadata": {
        "id": "6IEmUer_DdyW"
      },
      "source": [
        ""
      ],
      "execution_count": null,
      "outputs": []
    },
    {
      "cell_type": "code",
      "metadata": {
        "id": "NNVgJ8wk4QoF"
      },
      "source": [
        ""
      ],
      "execution_count": null,
      "outputs": []
    },
    {
      "cell_type": "code",
      "metadata": {
        "id": "QsnE4DHa4Qqj"
      },
      "source": [
        ""
      ],
      "execution_count": null,
      "outputs": []
    },
    {
      "cell_type": "code",
      "metadata": {
        "id": "B-wnHkaO4QwI"
      },
      "source": [
        ""
      ],
      "execution_count": null,
      "outputs": []
    },
    {
      "cell_type": "code",
      "metadata": {
        "id": "H3gue5b94Qzn"
      },
      "source": [
        ""
      ],
      "execution_count": null,
      "outputs": []
    },
    {
      "cell_type": "code",
      "metadata": {
        "id": "umyXU78e4Q1s"
      },
      "source": [
        ""
      ],
      "execution_count": null,
      "outputs": []
    },
    {
      "cell_type": "markdown",
      "metadata": {
        "id": "13Xwr298q3cS"
      },
      "source": [
        "# Visualisation"
      ]
    },
    {
      "cell_type": "code",
      "metadata": {
        "id": "MffbE7FfqVi7"
      },
      "source": [
        "profile = ProfileReport(df_clean)\n",
        "profile.to_notebook_iframe()"
      ],
      "execution_count": null,
      "outputs": []
    },
    {
      "cell_type": "code",
      "metadata": {
        "colab": {
          "base_uri": "https://localhost:8080/"
        },
        "id": "KfdBkTrQ8uiF",
        "outputId": "33042977-3d12-4590-c259-03b107d4526f"
      },
      "source": [
        "import gc\n",
        "gc.collect() #nettoie la ram"
      ],
      "execution_count": null,
      "outputs": [
        {
          "output_type": "execute_result",
          "data": {
            "text/plain": [
              "88"
            ]
          },
          "metadata": {
            "tags": []
          },
          "execution_count": 9
        }
      ]
    },
    {
      "cell_type": "code",
      "metadata": {
        "colab": {
          "base_uri": "https://localhost:8080/",
          "height": 297
        },
        "id": "k5CSrNyOox9V",
        "outputId": "824465b5-b3da-444d-a1ce-01697581ce75"
      },
      "source": [
        "V_18.describe()"
      ],
      "execution_count": null,
      "outputs": [
        {
          "output_type": "execute_result",
          "data": {
            "text/html": [
              "<div>\n",
              "<style scoped>\n",
              "    .dataframe tbody tr th:only-of-type {\n",
              "        vertical-align: middle;\n",
              "    }\n",
              "\n",
              "    .dataframe tbody tr th {\n",
              "        vertical-align: top;\n",
              "    }\n",
              "\n",
              "    .dataframe thead th {\n",
              "        text-align: right;\n",
              "    }\n",
              "</style>\n",
              "<table border=\"1\" class=\"dataframe\">\n",
              "  <thead>\n",
              "    <tr style=\"text-align: right;\">\n",
              "      <th></th>\n",
              "      <th>ID_PDV</th>\n",
              "      <th>ID_ARTC</th>\n",
              "      <th>QTE</th>\n",
              "    </tr>\n",
              "  </thead>\n",
              "  <tbody>\n",
              "    <tr>\n",
              "      <th>count</th>\n",
              "      <td>3.279302e+07</td>\n",
              "      <td>3.279302e+07</td>\n",
              "      <td>3.279302e+07</td>\n",
              "    </tr>\n",
              "    <tr>\n",
              "      <th>mean</th>\n",
              "      <td>8.081546e+01</td>\n",
              "      <td>8.528577e+02</td>\n",
              "      <td>3.759308e+00</td>\n",
              "    </tr>\n",
              "    <tr>\n",
              "      <th>std</th>\n",
              "      <td>4.123523e+01</td>\n",
              "      <td>6.359843e+02</td>\n",
              "      <td>6.151468e+00</td>\n",
              "    </tr>\n",
              "    <tr>\n",
              "      <th>min</th>\n",
              "      <td>1.000000e+00</td>\n",
              "      <td>1.000000e+00</td>\n",
              "      <td>1.000000e+00</td>\n",
              "    </tr>\n",
              "    <tr>\n",
              "      <th>25%</th>\n",
              "      <td>4.500000e+01</td>\n",
              "      <td>2.920000e+02</td>\n",
              "      <td>1.000000e+00</td>\n",
              "    </tr>\n",
              "    <tr>\n",
              "      <th>50%</th>\n",
              "      <td>8.300000e+01</td>\n",
              "      <td>7.380000e+02</td>\n",
              "      <td>2.000000e+00</td>\n",
              "    </tr>\n",
              "    <tr>\n",
              "      <th>75%</th>\n",
              "      <td>1.170000e+02</td>\n",
              "      <td>1.318000e+03</td>\n",
              "      <td>4.000000e+00</td>\n",
              "    </tr>\n",
              "    <tr>\n",
              "      <th>max</th>\n",
              "      <td>1.490000e+02</td>\n",
              "      <td>2.500000e+03</td>\n",
              "      <td>1.922000e+03</td>\n",
              "    </tr>\n",
              "  </tbody>\n",
              "</table>\n",
              "</div>"
            ],
            "text/plain": [
              "             ID_PDV       ID_ARTC           QTE\n",
              "count  3.279302e+07  3.279302e+07  3.279302e+07\n",
              "mean   8.081546e+01  8.528577e+02  3.759308e+00\n",
              "std    4.123523e+01  6.359843e+02  6.151468e+00\n",
              "min    1.000000e+00  1.000000e+00  1.000000e+00\n",
              "25%    4.500000e+01  2.920000e+02  1.000000e+00\n",
              "50%    8.300000e+01  7.380000e+02  2.000000e+00\n",
              "75%    1.170000e+02  1.318000e+03  4.000000e+00\n",
              "max    1.490000e+02  2.500000e+03  1.922000e+03"
            ]
          },
          "metadata": {
            "tags": []
          },
          "execution_count": 7
        }
      ]
    },
    {
      "cell_type": "code",
      "metadata": {
        "colab": {
          "base_uri": "https://localhost:8080/",
          "height": 400
        },
        "id": "3p8quYc_w0ql",
        "outputId": "2948fb98-c4d3-4313-cb1c-c192804cf8fe"
      },
      "source": [
        "sns.distplot(df_clean.QTE, color = 'green', rug = True, kde_kws = {'color': 'red', 'lw': 1})\n",
        "plt.xlabel('Value')\n",
        "plt.ylabel('Frequency')\n",
        "plt.title('Example of normal dist')\n"
      ],
      "execution_count": null,
      "outputs": [
        {
          "output_type": "stream",
          "text": [
            "/usr/local/lib/python3.7/dist-packages/seaborn/distributions.py:2557: FutureWarning: `distplot` is a deprecated function and will be removed in a future version. Please adapt your code to use either `displot` (a figure-level function with similar flexibility) or `histplot` (an axes-level function for histograms).\n",
            "  warnings.warn(msg, FutureWarning)\n",
            "/usr/local/lib/python3.7/dist-packages/seaborn/distributions.py:2056: FutureWarning: The `axis` variable is no longer used and will be removed. Instead, assign variables directly to `x` or `y`.\n",
            "  warnings.warn(msg, FutureWarning)\n"
          ],
          "name": "stderr"
        },
        {
          "output_type": "execute_result",
          "data": {
            "text/plain": [
              "Text(0.5, 1.0, 'Example of normal dist')"
            ]
          },
          "metadata": {
            "tags": []
          },
          "execution_count": 6
        },
        {
          "output_type": "display_data",
          "data": {
            "image/png": "[encoded data removed]",
            "text/plain": [
              "<Figure size 432x288 with 1 Axes>"
            ]
          },
          "metadata": {
            "tags": [],
            "needs_background": "light"
          }
        }
      ]
    },
    {
      "cell_type": "code",
      "metadata": {
        "id": "R-phWfaZ-8C3"
      },
      "source": [
        "df_clean['labelClass']= [1 if i==1 else 0 for i in df_clean['QTE']]"
      ],
      "execution_count": null,
      "outputs": []
    },
    {
      "cell_type": "code",
      "metadata": {
        "colab": {
          "base_uri": "https://localhost:8080/",
          "height": 419
        },
        "id": "ktAlxkYgw12n",
        "outputId": "b106b745-2c67-4c99-f485-d10461a89088"
      },
      "source": [
        "df_clean"
      ],
      "execution_count": null,
      "outputs": [
        {
          "output_type": "execute_result",
          "data": {
            "text/html": [
              "<div>\n",
              "<style scoped>\n",
              "    .dataframe tbody tr th:only-of-type {\n",
              "        vertical-align: middle;\n",
              "    }\n",
              "\n",
              "    .dataframe tbody tr th {\n",
              "        vertical-align: top;\n",
              "    }\n",
              "\n",
              "    .dataframe thead th {\n",
              "        text-align: right;\n",
              "    }\n",
              "</style>\n",
              "<table border=\"1\" class=\"dataframe\">\n",
              "  <thead>\n",
              "    <tr style=\"text-align: right;\">\n",
              "      <th></th>\n",
              "      <th>ID_PDV</th>\n",
              "      <th>ID_ARTC</th>\n",
              "      <th>DATE</th>\n",
              "      <th>QTE</th>\n",
              "      <th>labelClass</th>\n",
              "    </tr>\n",
              "  </thead>\n",
              "  <tbody>\n",
              "    <tr>\n",
              "      <th>1</th>\n",
              "      <td>102</td>\n",
              "      <td>2273</td>\n",
              "      <td>2018-05-14</td>\n",
              "      <td>1</td>\n",
              "      <td>1</td>\n",
              "    </tr>\n",
              "    <tr>\n",
              "      <th>2</th>\n",
              "      <td>5</td>\n",
              "      <td>1345</td>\n",
              "      <td>2018-05-14</td>\n",
              "      <td>1</td>\n",
              "      <td>1</td>\n",
              "    </tr>\n",
              "    <tr>\n",
              "      <th>5</th>\n",
              "      <td>39</td>\n",
              "      <td>225</td>\n",
              "      <td>2018-05-14</td>\n",
              "      <td>14</td>\n",
              "      <td>0</td>\n",
              "    </tr>\n",
              "    <tr>\n",
              "      <th>7</th>\n",
              "      <td>128</td>\n",
              "      <td>66</td>\n",
              "      <td>2018-05-14</td>\n",
              "      <td>12</td>\n",
              "      <td>0</td>\n",
              "    </tr>\n",
              "    <tr>\n",
              "      <th>8</th>\n",
              "      <td>140</td>\n",
              "      <td>20</td>\n",
              "      <td>2018-05-14</td>\n",
              "      <td>10</td>\n",
              "      <td>0</td>\n",
              "    </tr>\n",
              "    <tr>\n",
              "      <th>...</th>\n",
              "      <td>...</td>\n",
              "      <td>...</td>\n",
              "      <td>...</td>\n",
              "      <td>...</td>\n",
              "      <td>...</td>\n",
              "    </tr>\n",
              "    <tr>\n",
              "      <th>32793013</th>\n",
              "      <td>142</td>\n",
              "      <td>1100</td>\n",
              "      <td>2018-11-16</td>\n",
              "      <td>1</td>\n",
              "      <td>1</td>\n",
              "    </tr>\n",
              "    <tr>\n",
              "      <th>32793014</th>\n",
              "      <td>50</td>\n",
              "      <td>474</td>\n",
              "      <td>2018-11-16</td>\n",
              "      <td>1</td>\n",
              "      <td>1</td>\n",
              "    </tr>\n",
              "    <tr>\n",
              "      <th>32793015</th>\n",
              "      <td>35</td>\n",
              "      <td>1390</td>\n",
              "      <td>2018-11-16</td>\n",
              "      <td>1</td>\n",
              "      <td>1</td>\n",
              "    </tr>\n",
              "    <tr>\n",
              "      <th>32793016</th>\n",
              "      <td>59</td>\n",
              "      <td>1783</td>\n",
              "      <td>2018-11-16</td>\n",
              "      <td>1</td>\n",
              "      <td>1</td>\n",
              "    </tr>\n",
              "    <tr>\n",
              "      <th>32793017</th>\n",
              "      <td>52</td>\n",
              "      <td>646</td>\n",
              "      <td>2018-11-16</td>\n",
              "      <td>1</td>\n",
              "      <td>1</td>\n",
              "    </tr>\n",
              "  </tbody>\n",
              "</table>\n",
              "<p>24883316 rows × 5 columns</p>\n",
              "</div>"
            ],
            "text/plain": [
              "          ID_PDV  ID_ARTC        DATE  QTE  labelClass\n",
              "1            102     2273  2018-05-14    1           1\n",
              "2              5     1345  2018-05-14    1           1\n",
              "5             39      225  2018-05-14   14           0\n",
              "7            128       66  2018-05-14   12           0\n",
              "8            140       20  2018-05-14   10           0\n",
              "...          ...      ...         ...  ...         ...\n",
              "32793013     142     1100  2018-11-16    1           1\n",
              "32793014      50      474  2018-11-16    1           1\n",
              "32793015      35     1390  2018-11-16    1           1\n",
              "32793016      59     1783  2018-11-16    1           1\n",
              "32793017      52      646  2018-11-16    1           1\n",
              "\n",
              "[24883316 rows x 5 columns]"
            ]
          },
          "metadata": {
            "tags": []
          },
          "execution_count": 28
        }
      ]
    },
    {
      "cell_type": "code",
      "metadata": {
        "colab": {
          "base_uri": "https://localhost:8080/",
          "height": 204
        },
        "id": "rosmaBbYqOpz",
        "outputId": "b438d763-bd1d-4410-8bd0-6da111cb1947"
      },
      "source": [
        "PrV.head()"
      ],
      "execution_count": null,
      "outputs": [
        {
          "output_type": "execute_result",
          "data": {
            "text/html": [
              "<div>\n",
              "<style scoped>\n",
              "    .dataframe tbody tr th:only-of-type {\n",
              "        vertical-align: middle;\n",
              "    }\n",
              "\n",
              "    .dataframe tbody tr th {\n",
              "        vertical-align: top;\n",
              "    }\n",
              "\n",
              "    .dataframe thead th {\n",
              "        text-align: right;\n",
              "    }\n",
              "</style>\n",
              "<table border=\"1\" class=\"dataframe\">\n",
              "  <thead>\n",
              "    <tr style=\"text-align: right;\">\n",
              "      <th></th>\n",
              "      <th>ID_PDV</th>\n",
              "      <th>ID_ARTC</th>\n",
              "      <th>ANNEE</th>\n",
              "      <th>TRIMESTRE</th>\n",
              "      <th>PRIX_UNITAIRE</th>\n",
              "    </tr>\n",
              "  </thead>\n",
              "  <tbody>\n",
              "    <tr>\n",
              "      <th>0</th>\n",
              "      <td>44</td>\n",
              "      <td>968</td>\n",
              "      <td>2019</td>\n",
              "      <td>1</td>\n",
              "      <td>Entre 3 et 3.99€</td>\n",
              "    </tr>\n",
              "    <tr>\n",
              "      <th>1</th>\n",
              "      <td>44</td>\n",
              "      <td>639</td>\n",
              "      <td>2018</td>\n",
              "      <td>3</td>\n",
              "      <td>Entre 2 et 2.99€</td>\n",
              "    </tr>\n",
              "    <tr>\n",
              "      <th>2</th>\n",
              "      <td>44</td>\n",
              "      <td>574</td>\n",
              "      <td>2019</td>\n",
              "      <td>1</td>\n",
              "      <td>Moins de 0.99€</td>\n",
              "    </tr>\n",
              "    <tr>\n",
              "      <th>3</th>\n",
              "      <td>44</td>\n",
              "      <td>781</td>\n",
              "      <td>2018</td>\n",
              "      <td>3</td>\n",
              "      <td>Moins de 0.99€</td>\n",
              "    </tr>\n",
              "    <tr>\n",
              "      <th>4</th>\n",
              "      <td>44</td>\n",
              "      <td>543</td>\n",
              "      <td>2018</td>\n",
              "      <td>1</td>\n",
              "      <td>Entre 1 et 1.99€</td>\n",
              "    </tr>\n",
              "  </tbody>\n",
              "</table>\n",
              "</div>"
            ],
            "text/plain": [
              "   ID_PDV  ID_ARTC  ANNEE  TRIMESTRE     PRIX_UNITAIRE\n",
              "0      44      968   2019          1  Entre 3 et 3.99€\n",
              "1      44      639   2018          3  Entre 2 et 2.99€\n",
              "2      44      574   2019          1    Moins de 0.99€\n",
              "3      44      781   2018          3    Moins de 0.99€\n",
              "4      44      543   2018          1  Entre 1 et 1.99€"
            ]
          },
          "metadata": {
            "tags": []
          },
          "execution_count": 11
        }
      ]
    },
    {
      "cell_type": "code",
      "metadata": {
        "colab": {
          "base_uri": "https://localhost:8080/",
          "height": 204
        },
        "id": "vYWGYaTovykc",
        "outputId": "e351a17f-a2f7-451d-d639-ec9515263979"
      },
      "source": [
        "PdV.head()"
      ],
      "execution_count": null,
      "outputs": [
        {
          "output_type": "execute_result",
          "data": {
            "text/html": [
              "<div>\n",
              "<style scoped>\n",
              "    .dataframe tbody tr th:only-of-type {\n",
              "        vertical-align: middle;\n",
              "    }\n",
              "\n",
              "    .dataframe tbody tr th {\n",
              "        vertical-align: top;\n",
              "    }\n",
              "\n",
              "    .dataframe thead th {\n",
              "        text-align: right;\n",
              "    }\n",
              "</style>\n",
              "<table border=\"1\" class=\"dataframe\">\n",
              "  <thead>\n",
              "    <tr style=\"text-align: right;\">\n",
              "      <th></th>\n",
              "      <th>ID_PDV</th>\n",
              "      <th>ID_VOCT</th>\n",
              "      <th>ID_REGN</th>\n",
              "      <th>NB_CAIS_GRP</th>\n",
              "      <th>SURF_GRP</th>\n",
              "    </tr>\n",
              "  </thead>\n",
              "  <tbody>\n",
              "    <tr>\n",
              "      <th>0</th>\n",
              "      <td>1</td>\n",
              "      <td>VOC_1</td>\n",
              "      <td>RGN_1</td>\n",
              "      <td>NB_CAIS_G_1</td>\n",
              "      <td>SURF_G_1</td>\n",
              "    </tr>\n",
              "    <tr>\n",
              "      <th>1</th>\n",
              "      <td>10</td>\n",
              "      <td>VOC_1</td>\n",
              "      <td>RGN_4</td>\n",
              "      <td>NB_CAIS_G_1</td>\n",
              "      <td>SURF_G_2</td>\n",
              "    </tr>\n",
              "    <tr>\n",
              "      <th>2</th>\n",
              "      <td>100</td>\n",
              "      <td>VOC_4</td>\n",
              "      <td>RGN_7</td>\n",
              "      <td>NB_CAIS_G_4</td>\n",
              "      <td>SURF_G_3</td>\n",
              "    </tr>\n",
              "    <tr>\n",
              "      <th>3</th>\n",
              "      <td>101</td>\n",
              "      <td>VOC_4</td>\n",
              "      <td>RGN_7</td>\n",
              "      <td>NB_CAIS_G_2</td>\n",
              "      <td>SURF_G_3</td>\n",
              "    </tr>\n",
              "    <tr>\n",
              "      <th>4</th>\n",
              "      <td>102</td>\n",
              "      <td>VOC_4</td>\n",
              "      <td>RGN_7</td>\n",
              "      <td>NB_CAIS_G_3</td>\n",
              "      <td>SURF_G_3</td>\n",
              "    </tr>\n",
              "  </tbody>\n",
              "</table>\n",
              "</div>"
            ],
            "text/plain": [
              "   ID_PDV ID_VOCT ID_REGN  NB_CAIS_GRP  SURF_GRP\n",
              "0       1   VOC_1   RGN_1  NB_CAIS_G_1  SURF_G_1\n",
              "1      10   VOC_1   RGN_4  NB_CAIS_G_1  SURF_G_2\n",
              "2     100   VOC_4   RGN_7  NB_CAIS_G_4  SURF_G_3\n",
              "3     101   VOC_4   RGN_7  NB_CAIS_G_2  SURF_G_3\n",
              "4     102   VOC_4   RGN_7  NB_CAIS_G_3  SURF_G_3"
            ]
          },
          "metadata": {
            "tags": []
          },
          "execution_count": 12
        }
      ]
    },
    {
      "cell_type": "code",
      "metadata": {
        "colab": {
          "base_uri": "https://localhost:8080/",
          "height": 204
        },
        "id": "bX10ASnSv-hB",
        "outputId": "5acdd9ea-e85c-4c15-cfc4-e923d48f29f5"
      },
      "source": [
        "nm.head()\n",
        "#len(np.unique(nm.ID_ARTC))"
      ],
      "execution_count": null,
      "outputs": [
        {
          "output_type": "execute_result",
          "data": {
            "text/html": [
              "<div>\n",
              "<style scoped>\n",
              "    .dataframe tbody tr th:only-of-type {\n",
              "        vertical-align: middle;\n",
              "    }\n",
              "\n",
              "    .dataframe tbody tr th {\n",
              "        vertical-align: top;\n",
              "    }\n",
              "\n",
              "    .dataframe thead th {\n",
              "        text-align: right;\n",
              "    }\n",
              "</style>\n",
              "<table border=\"1\" class=\"dataframe\">\n",
              "  <thead>\n",
              "    <tr style=\"text-align: right;\">\n",
              "      <th></th>\n",
              "      <th>ID_ARTC</th>\n",
              "      <th>LB_VENT_RAYN</th>\n",
              "      <th>LB_VENT_FAML</th>\n",
              "      <th>LB_VENT_SOUS_FAML</th>\n",
              "    </tr>\n",
              "  </thead>\n",
              "  <tbody>\n",
              "    <tr>\n",
              "      <th>0</th>\n",
              "      <td>905</td>\n",
              "      <td>CREMERIE LS</td>\n",
              "      <td>ULTRA FRAIS</td>\n",
              "      <td>ULTRA FRAIS - SS-FAML 2</td>\n",
              "    </tr>\n",
              "    <tr>\n",
              "      <th>1</th>\n",
              "      <td>477</td>\n",
              "      <td>LIQUIDES</td>\n",
              "      <td>BOISSONS GAZEUSES ET PLATES</td>\n",
              "      <td>BOISSONS GAZEUSES ET PLATES - SS-FAML 6</td>\n",
              "    </tr>\n",
              "    <tr>\n",
              "      <th>2</th>\n",
              "      <td>863</td>\n",
              "      <td>LIQUIDES</td>\n",
              "      <td>BIERES ET CIDRES</td>\n",
              "      <td>BIERES ET CIDRES - SS-FAML 2</td>\n",
              "    </tr>\n",
              "    <tr>\n",
              "      <th>3</th>\n",
              "      <td>1741</td>\n",
              "      <td>EPICERIE SUCREE</td>\n",
              "      <td>CAFES / CHICOREE</td>\n",
              "      <td>CAFES / CHICOREE - SS-FAML 2</td>\n",
              "    </tr>\n",
              "    <tr>\n",
              "      <th>4</th>\n",
              "      <td>983</td>\n",
              "      <td>CREMERIE LS</td>\n",
              "      <td>FROMAGE LS</td>\n",
              "      <td>FROMAGE LS - SS-FAML 2</td>\n",
              "    </tr>\n",
              "  </tbody>\n",
              "</table>\n",
              "</div>"
            ],
            "text/plain": [
              "   ID_ARTC  ...                        LB_VENT_SOUS_FAML\n",
              "0      905  ...                  ULTRA FRAIS - SS-FAML 2\n",
              "1      477  ...  BOISSONS GAZEUSES ET PLATES - SS-FAML 6\n",
              "2      863  ...             BIERES ET CIDRES - SS-FAML 2\n",
              "3     1741  ...             CAFES / CHICOREE - SS-FAML 2\n",
              "4      983  ...                   FROMAGE LS - SS-FAML 2\n",
              "\n",
              "[5 rows x 4 columns]"
            ]
          },
          "metadata": {
            "tags": []
          },
          "execution_count": 13
        }
      ]
    },
    {
      "cell_type": "code",
      "metadata": {
        "id": "-1tbgtSlwDBr"
      },
      "source": [
        "sns.distplot(V_18.QTE, color = 'green', rug = True, kde_kws = {'color': 'red', 'lw': 1})\n",
        "pyplot.xlabel('Value')\n",
        "pyplot.ylabel('Frequency')\n",
        "pyplot.title('Example of normal dist')"
      ],
      "execution_count": null,
      "outputs": []
    },
    {
      "cell_type": "code",
      "metadata": {
        "colab": {
          "base_uri": "https://localhost:8080/"
        },
        "id": "XAyp8w1G1s-_",
        "outputId": "10540ae4-9c83-4868-9054-95c5a69c8b18"
      },
      "source": [
        "np.unique(nm.LB_VENT_RAYN)"
      ],
      "execution_count": null,
      "outputs": [
        {
          "output_type": "execute_result",
          "data": {
            "text/plain": [
              "array(['ALIMENTATION POUR ANIMAUX', 'BAZAR LEGER', 'BOUCHERIE LS',\n",
              "       'CHARCUTERIE TRAITEUR LS', 'CREMERIE LS', 'D.P.H.',\n",
              "       'EPICERIE SALEE', 'EPICERIE SUCREE', 'FRUITS ET LEGUMES',\n",
              "       'LIQUIDES', 'PAIN PAT LS INDUS', 'SAURISSERIE', 'SURGELES',\n",
              "       'VOLAILLE LS'], dtype=object)"
            ]
          },
          "metadata": {
            "tags": []
          },
          "execution_count": 14
        }
      ]
    },
    {
      "cell_type": "code",
      "metadata": {
        "id": "QV5aMkCCn2p8"
      },
      "source": [
        ""
      ],
      "execution_count": null,
      "outputs": []
    },
    {
      "cell_type": "code",
      "metadata": {
        "colab": {
          "base_uri": "https://localhost:8080/"
        },
        "id": "Z8WK-dWao54P",
        "outputId": "d4665634-e4a3-429a-ef55-5cc3b8da8d05"
      },
      "source": [
        ""
      ],
      "execution_count": null,
      "outputs": [
        {
          "output_type": "execute_result",
          "data": {
            "text/plain": [
              "422"
            ]
          },
          "metadata": {
            "tags": []
          },
          "execution_count": 39
        }
      ]
    },
    {
      "cell_type": "code",
      "metadata": {
        "id": "i9rfQEchpOBf"
      },
      "source": [
        "f = open('y_test_template.csv','w+')\n",
        "#res=np.arange(594)\n",
        "res=Z15\n",
        "f.write(\"seqID;anomaly\\n\")\n",
        "for num,Z15 in enumerate(res):\n",
        "    f.write(str(num)+\";\" + str(Z15)+ \"\\n\")\n",
        "f.close()  "
      ],
      "execution_count": null,
      "outputs": []
    },
    {
      "cell_type": "code",
      "metadata": {
        "id": "PHoIeov_MHMB"
      },
      "source": [
        "plt.figure(figsize= (12,4))\n",
        "plt.subplot(121)\n",
        "plt.scatter(X_train[:,0],y_train[:,1], c = y_train, alpha=0.8)\n",
        "plt.title('Train set')\n",
        "plt.subplot(120)\n",
        "plt.scatter(X_test[:,0],y_test[:,1], c = y_test, alpha=0.8)\n",
        "plt.title('Test set')\n",
        "\n"
      ],
      "execution_count": null,
      "outputs": []
    }
  ]
}